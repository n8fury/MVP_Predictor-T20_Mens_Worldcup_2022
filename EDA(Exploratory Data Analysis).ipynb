{
 "cells": [
  {
   "cell_type": "markdown",
   "metadata": {},
   "source": [
    "# Importing Libraries\n"
   ]
  },
  {
   "cell_type": "code",
   "execution_count": 1,
   "metadata": {},
   "outputs": [],
   "source": [
    "import pandas as pd\n",
    "import numpy as np\n",
    "import matplotlib.pyplot as plt\n",
    "import seaborn as sns\n",
    "\n",
    "import warnings\n",
    "warnings.filterwarnings(\"ignore\")\n"
   ]
  },
  {
   "cell_type": "markdown",
   "metadata": {},
   "source": [
    "# Importing Dataset\n"
   ]
  },
  {
   "cell_type": "code",
   "execution_count": 2,
   "metadata": {},
   "outputs": [
    {
     "data": {
      "text/html": [
       "<div>\n",
       "<style scoped>\n",
       "    .dataframe tbody tr th:only-of-type {\n",
       "        vertical-align: middle;\n",
       "    }\n",
       "\n",
       "    .dataframe tbody tr th {\n",
       "        vertical-align: top;\n",
       "    }\n",
       "\n",
       "    .dataframe thead th {\n",
       "        text-align: right;\n",
       "    }\n",
       "</style>\n",
       "<table border=\"1\" class=\"dataframe\">\n",
       "  <thead>\n",
       "    <tr style=\"text-align: right;\">\n",
       "      <th></th>\n",
       "      <th>Team names</th>\n",
       "      <th>PLAYER ID</th>\n",
       "      <th>PLAYER NAME</th>\n",
       "      <th>Key_Player</th>\n",
       "      <th>MATCHES</th>\n",
       "      <th>TOTAL RUN</th>\n",
       "      <th>BATTING AVG</th>\n",
       "      <th>Strike Rate</th>\n",
       "      <th>Wickets</th>\n",
       "      <th>ECONOMY</th>\n",
       "      <th>IMPACT (batting)</th>\n",
       "      <th>wicket/match</th>\n",
       "      <th>impact bowling</th>\n",
       "      <th>Total impact</th>\n",
       "      <th>Semi-probability</th>\n",
       "    </tr>\n",
       "  </thead>\n",
       "  <tbody>\n",
       "    <tr>\n",
       "      <th>0</th>\n",
       "      <td>AFGANISTHAN</td>\n",
       "      <td>101</td>\n",
       "      <td>Mohammad Nabi*</td>\n",
       "      <td>YES</td>\n",
       "      <td>100</td>\n",
       "      <td>1667</td>\n",
       "      <td>21.9</td>\n",
       "      <td>140.3</td>\n",
       "      <td>84</td>\n",
       "      <td>7.29</td>\n",
       "      <td>0.1920</td>\n",
       "      <td>0.84</td>\n",
       "      <td>0.1106</td>\n",
       "      <td>0.3027</td>\n",
       "      <td>0.02</td>\n",
       "    </tr>\n",
       "    <tr>\n",
       "      <th>1</th>\n",
       "      <td>AFGANISTHAN</td>\n",
       "      <td>102</td>\n",
       "      <td>FAREED AHMAD</td>\n",
       "      <td>NO</td>\n",
       "      <td>21</td>\n",
       "      <td>27</td>\n",
       "      <td>0.0</td>\n",
       "      <td>112.5</td>\n",
       "      <td>30</td>\n",
       "      <td>8.70</td>\n",
       "      <td>0.0000</td>\n",
       "      <td>1.43</td>\n",
       "      <td>0.1576</td>\n",
       "      <td>0.1576</td>\n",
       "      <td>0.02</td>\n",
       "    </tr>\n",
       "    <tr>\n",
       "      <th>2</th>\n",
       "      <td>AFGANISTHAN</td>\n",
       "      <td>103</td>\n",
       "      <td>NAJIBULLAH ZADRAN*</td>\n",
       "      <td>NO</td>\n",
       "      <td>82</td>\n",
       "      <td>1512</td>\n",
       "      <td>32.2</td>\n",
       "      <td>142.4</td>\n",
       "      <td>1</td>\n",
       "      <td>4.00</td>\n",
       "      <td>0.2866</td>\n",
       "      <td>0.01</td>\n",
       "      <td>0.0029</td>\n",
       "      <td>0.2895</td>\n",
       "      <td>0.02</td>\n",
       "    </tr>\n",
       "    <tr>\n",
       "      <th>3</th>\n",
       "      <td>AFGANISTHAN</td>\n",
       "      <td>104</td>\n",
       "      <td>QAIS AHMAD</td>\n",
       "      <td>NO</td>\n",
       "      <td>2</td>\n",
       "      <td>8</td>\n",
       "      <td>8.0</td>\n",
       "      <td>88.9</td>\n",
       "      <td>4</td>\n",
       "      <td>7.66</td>\n",
       "      <td>0.0445</td>\n",
       "      <td>2.00</td>\n",
       "      <td>0.2507</td>\n",
       "      <td>0.2951</td>\n",
       "      <td>0.02</td>\n",
       "    </tr>\n",
       "    <tr>\n",
       "      <th>4</th>\n",
       "      <td>AFGANISTHAN</td>\n",
       "      <td>105</td>\n",
       "      <td>HAZRAT ZAZAI</td>\n",
       "      <td>NO</td>\n",
       "      <td>32</td>\n",
       "      <td>952</td>\n",
       "      <td>32.8</td>\n",
       "      <td>136.4</td>\n",
       "      <td>0</td>\n",
       "      <td>0.00</td>\n",
       "      <td>0.2796</td>\n",
       "      <td>0.00</td>\n",
       "      <td>0.0000</td>\n",
       "      <td>0.2796</td>\n",
       "      <td>0.02</td>\n",
       "    </tr>\n",
       "  </tbody>\n",
       "</table>\n",
       "</div>"
      ],
      "text/plain": [
       "    Team names  PLAYER ID         PLAYER NAME Key_Player  MATCHES  TOTAL RUN  \\\n",
       "0  AFGANISTHAN        101      Mohammad Nabi*        YES      100       1667   \n",
       "1  AFGANISTHAN        102        FAREED AHMAD         NO       21         27   \n",
       "2  AFGANISTHAN        103  NAJIBULLAH ZADRAN*         NO       82       1512   \n",
       "3  AFGANISTHAN        104          QAIS AHMAD         NO        2          8   \n",
       "4  AFGANISTHAN        105        HAZRAT ZAZAI         NO       32        952   \n",
       "\n",
       "   BATTING AVG  Strike Rate  Wickets  ECONOMY  IMPACT (batting)  wicket/match  \\\n",
       "0         21.9        140.3       84     7.29            0.1920          0.84   \n",
       "1          0.0        112.5       30     8.70            0.0000          1.43   \n",
       "2         32.2        142.4        1     4.00            0.2866          0.01   \n",
       "3          8.0         88.9        4     7.66            0.0445          2.00   \n",
       "4         32.8        136.4        0     0.00            0.2796          0.00   \n",
       "\n",
       "   impact bowling  Total impact  Semi-probability  \n",
       "0          0.1106        0.3027              0.02  \n",
       "1          0.1576        0.1576              0.02  \n",
       "2          0.0029        0.2895              0.02  \n",
       "3          0.2507        0.2951              0.02  \n",
       "4          0.0000        0.2796              0.02  "
      ]
     },
     "execution_count": 2,
     "metadata": {},
     "output_type": "execute_result"
    }
   ],
   "source": [
    "df = pd.read_csv('CSE_445_Project_DB.csv')\n",
    "df.head()\n"
   ]
  },
  {
   "cell_type": "markdown",
   "metadata": {},
   "source": [
    "# Data Preprocessing and Cleaning\n",
    "\n"
   ]
  },
  {
   "cell_type": "code",
   "execution_count": 3,
   "metadata": {},
   "outputs": [
    {
     "name": "stdout",
     "output_type": "stream",
     "text": [
      "<class 'pandas.core.frame.DataFrame'>\n",
      "RangeIndex: 174 entries, 0 to 173\n",
      "Data columns (total 15 columns):\n",
      " #   Column            Non-Null Count  Dtype  \n",
      "---  ------            --------------  -----  \n",
      " 0   Team names        174 non-null    object \n",
      " 1   PLAYER ID         174 non-null    int64  \n",
      " 2   PLAYER NAME       174 non-null    object \n",
      " 3   Key_Player        174 non-null    object \n",
      " 4   MATCHES           174 non-null    int64  \n",
      " 5   TOTAL RUN         174 non-null    int64  \n",
      " 6   BATTING AVG       174 non-null    float64\n",
      " 7   Strike Rate       174 non-null    float64\n",
      " 8   Wickets           174 non-null    int64  \n",
      " 9   ECONOMY           174 non-null    float64\n",
      " 10  IMPACT (batting)  174 non-null    float64\n",
      " 11  wicket/match      174 non-null    float64\n",
      " 12  impact bowling    174 non-null    float64\n",
      " 13  Total impact      174 non-null    float64\n",
      " 14  Semi-probability  174 non-null    float64\n",
      "dtypes: float64(8), int64(4), object(3)\n",
      "memory usage: 20.5+ KB\n"
     ]
    }
   ],
   "source": [
    "df.info()\n"
   ]
  },
  {
   "cell_type": "code",
   "execution_count": 4,
   "metadata": {},
   "outputs": [
    {
     "data": {
      "text/html": [
       "<div>\n",
       "<style scoped>\n",
       "    .dataframe tbody tr th:only-of-type {\n",
       "        vertical-align: middle;\n",
       "    }\n",
       "\n",
       "    .dataframe tbody tr th {\n",
       "        vertical-align: top;\n",
       "    }\n",
       "\n",
       "    .dataframe thead th {\n",
       "        text-align: right;\n",
       "    }\n",
       "</style>\n",
       "<table border=\"1\" class=\"dataframe\">\n",
       "  <thead>\n",
       "    <tr style=\"text-align: right;\">\n",
       "      <th></th>\n",
       "      <th>Team names</th>\n",
       "      <th>PLAYER ID</th>\n",
       "      <th>PLAYER NAME</th>\n",
       "      <th>Key_Player</th>\n",
       "      <th>MATCHES</th>\n",
       "      <th>TOTAL RUN</th>\n",
       "      <th>BATTING AVG</th>\n",
       "      <th>Strike Rate</th>\n",
       "      <th>Wickets</th>\n",
       "      <th>ECONOMY</th>\n",
       "      <th>IMPACT (batting)</th>\n",
       "      <th>wicket/match</th>\n",
       "      <th>impact bowling</th>\n",
       "      <th>Total impact</th>\n",
       "      <th>Semi-probability</th>\n",
       "      <th>Target</th>\n",
       "    </tr>\n",
       "  </thead>\n",
       "  <tbody>\n",
       "    <tr>\n",
       "      <th>0</th>\n",
       "      <td>AFGANISTHAN</td>\n",
       "      <td>101</td>\n",
       "      <td>Mohammad Nabi*</td>\n",
       "      <td>YES</td>\n",
       "      <td>100</td>\n",
       "      <td>1667</td>\n",
       "      <td>21.9</td>\n",
       "      <td>140.3</td>\n",
       "      <td>84</td>\n",
       "      <td>7.29</td>\n",
       "      <td>0.1920</td>\n",
       "      <td>0.84</td>\n",
       "      <td>0.1106</td>\n",
       "      <td>0.3027</td>\n",
       "      <td>0.02</td>\n",
       "      <td>1</td>\n",
       "    </tr>\n",
       "    <tr>\n",
       "      <th>1</th>\n",
       "      <td>AFGANISTHAN</td>\n",
       "      <td>102</td>\n",
       "      <td>FAREED AHMAD</td>\n",
       "      <td>NO</td>\n",
       "      <td>21</td>\n",
       "      <td>27</td>\n",
       "      <td>0.0</td>\n",
       "      <td>112.5</td>\n",
       "      <td>30</td>\n",
       "      <td>8.70</td>\n",
       "      <td>0.0000</td>\n",
       "      <td>1.43</td>\n",
       "      <td>0.1576</td>\n",
       "      <td>0.1576</td>\n",
       "      <td>0.02</td>\n",
       "      <td>0</td>\n",
       "    </tr>\n",
       "    <tr>\n",
       "      <th>2</th>\n",
       "      <td>AFGANISTHAN</td>\n",
       "      <td>103</td>\n",
       "      <td>NAJIBULLAH ZADRAN*</td>\n",
       "      <td>NO</td>\n",
       "      <td>82</td>\n",
       "      <td>1512</td>\n",
       "      <td>32.2</td>\n",
       "      <td>142.4</td>\n",
       "      <td>1</td>\n",
       "      <td>4.00</td>\n",
       "      <td>0.2866</td>\n",
       "      <td>0.01</td>\n",
       "      <td>0.0029</td>\n",
       "      <td>0.2895</td>\n",
       "      <td>0.02</td>\n",
       "      <td>0</td>\n",
       "    </tr>\n",
       "    <tr>\n",
       "      <th>3</th>\n",
       "      <td>AFGANISTHAN</td>\n",
       "      <td>104</td>\n",
       "      <td>QAIS AHMAD</td>\n",
       "      <td>NO</td>\n",
       "      <td>2</td>\n",
       "      <td>8</td>\n",
       "      <td>8.0</td>\n",
       "      <td>88.9</td>\n",
       "      <td>4</td>\n",
       "      <td>7.66</td>\n",
       "      <td>0.0445</td>\n",
       "      <td>2.00</td>\n",
       "      <td>0.2507</td>\n",
       "      <td>0.2951</td>\n",
       "      <td>0.02</td>\n",
       "      <td>0</td>\n",
       "    </tr>\n",
       "    <tr>\n",
       "      <th>4</th>\n",
       "      <td>AFGANISTHAN</td>\n",
       "      <td>105</td>\n",
       "      <td>HAZRAT ZAZAI</td>\n",
       "      <td>NO</td>\n",
       "      <td>32</td>\n",
       "      <td>952</td>\n",
       "      <td>32.8</td>\n",
       "      <td>136.4</td>\n",
       "      <td>0</td>\n",
       "      <td>0.00</td>\n",
       "      <td>0.2796</td>\n",
       "      <td>0.00</td>\n",
       "      <td>0.0000</td>\n",
       "      <td>0.2796</td>\n",
       "      <td>0.02</td>\n",
       "      <td>0</td>\n",
       "    </tr>\n",
       "  </tbody>\n",
       "</table>\n",
       "</div>"
      ],
      "text/plain": [
       "    Team names  PLAYER ID         PLAYER NAME Key_Player  MATCHES  TOTAL RUN  \\\n",
       "0  AFGANISTHAN        101      Mohammad Nabi*        YES      100       1667   \n",
       "1  AFGANISTHAN        102        FAREED AHMAD         NO       21         27   \n",
       "2  AFGANISTHAN        103  NAJIBULLAH ZADRAN*         NO       82       1512   \n",
       "3  AFGANISTHAN        104          QAIS AHMAD         NO        2          8   \n",
       "4  AFGANISTHAN        105        HAZRAT ZAZAI         NO       32        952   \n",
       "\n",
       "   BATTING AVG  Strike Rate  Wickets  ECONOMY  IMPACT (batting)  wicket/match  \\\n",
       "0         21.9        140.3       84     7.29            0.1920          0.84   \n",
       "1          0.0        112.5       30     8.70            0.0000          1.43   \n",
       "2         32.2        142.4        1     4.00            0.2866          0.01   \n",
       "3          8.0         88.9        4     7.66            0.0445          2.00   \n",
       "4         32.8        136.4        0     0.00            0.2796          0.00   \n",
       "\n",
       "   impact bowling  Total impact  Semi-probability  Target  \n",
       "0          0.1106        0.3027              0.02       1  \n",
       "1          0.1576        0.1576              0.02       0  \n",
       "2          0.0029        0.2895              0.02       0  \n",
       "3          0.2507        0.2951              0.02       0  \n",
       "4          0.0000        0.2796              0.02       0  "
      ]
     },
     "execution_count": 4,
     "metadata": {},
     "output_type": "execute_result"
    }
   ],
   "source": [
    "#performing label encoding on the categorical variables (Key Player to Target)\n",
    "from sklearn.preprocessing import LabelEncoder\n",
    "label_encoder = LabelEncoder()\n",
    "label = label_encoder.fit_transform(df.Key_Player)\n",
    "df['Target'] = label\n",
    "df.head()\n"
   ]
  },
  {
   "attachments": {},
   "cell_type": "markdown",
   "metadata": {},
   "source": [
    "# 1.DF.INFO()\n",
    "\n"
   ]
  },
  {
   "cell_type": "code",
   "execution_count": 5,
   "metadata": {},
   "outputs": [
    {
     "name": "stdout",
     "output_type": "stream",
     "text": [
      "<class 'pandas.core.frame.DataFrame'>\n",
      "RangeIndex: 174 entries, 0 to 173\n",
      "Data columns (total 16 columns):\n",
      " #   Column            Non-Null Count  Dtype  \n",
      "---  ------            --------------  -----  \n",
      " 0   Team names        174 non-null    object \n",
      " 1   PLAYER ID         174 non-null    int64  \n",
      " 2   PLAYER NAME       174 non-null    object \n",
      " 3   Key_Player        174 non-null    object \n",
      " 4   MATCHES           174 non-null    int64  \n",
      " 5   TOTAL RUN         174 non-null    int64  \n",
      " 6   BATTING AVG       174 non-null    float64\n",
      " 7   Strike Rate       174 non-null    float64\n",
      " 8   Wickets           174 non-null    int64  \n",
      " 9   ECONOMY           174 non-null    float64\n",
      " 10  IMPACT (batting)  174 non-null    float64\n",
      " 11  wicket/match      174 non-null    float64\n",
      " 12  impact bowling    174 non-null    float64\n",
      " 13  Total impact      174 non-null    float64\n",
      " 14  Semi-probability  174 non-null    float64\n",
      " 15  Target            174 non-null    int32  \n",
      "dtypes: float64(8), int32(1), int64(4), object(3)\n",
      "memory usage: 21.2+ KB\n"
     ]
    }
   ],
   "source": [
    "df.info()"
   ]
  },
  {
   "cell_type": "code",
   "execution_count": 7,
   "metadata": {},
   "outputs": [
    {
     "data": {
      "text/html": [
       "<div>\n",
       "<style scoped>\n",
       "    .dataframe tbody tr th:only-of-type {\n",
       "        vertical-align: middle;\n",
       "    }\n",
       "\n",
       "    .dataframe tbody tr th {\n",
       "        vertical-align: top;\n",
       "    }\n",
       "\n",
       "    .dataframe thead th {\n",
       "        text-align: right;\n",
       "    }\n",
       "</style>\n",
       "<table border=\"1\" class=\"dataframe\">\n",
       "  <thead>\n",
       "    <tr style=\"text-align: right;\">\n",
       "      <th></th>\n",
       "      <th>Team names</th>\n",
       "      <th>PLAYER ID</th>\n",
       "      <th>PLAYER NAME</th>\n",
       "      <th>Key_Player</th>\n",
       "      <th>MATCHES</th>\n",
       "      <th>TOTAL RUN</th>\n",
       "      <th>BATTING AVG</th>\n",
       "      <th>Strike Rate</th>\n",
       "      <th>Wickets</th>\n",
       "      <th>ECONOMY</th>\n",
       "      <th>IMPACT (batting)</th>\n",
       "      <th>wicket/match</th>\n",
       "      <th>impact bowling</th>\n",
       "      <th>Total impact</th>\n",
       "      <th>Semi-probability</th>\n",
       "      <th>Target</th>\n",
       "    </tr>\n",
       "  </thead>\n",
       "  <tbody>\n",
       "    <tr>\n",
       "      <th>0</th>\n",
       "      <td>AFGANISTHAN</td>\n",
       "      <td>101</td>\n",
       "      <td>Mohammad Nabi*</td>\n",
       "      <td>YES</td>\n",
       "      <td>100</td>\n",
       "      <td>1667</td>\n",
       "      <td>21.9</td>\n",
       "      <td>140.3</td>\n",
       "      <td>84</td>\n",
       "      <td>7.29</td>\n",
       "      <td>0.1920</td>\n",
       "      <td>0.84</td>\n",
       "      <td>0.1106</td>\n",
       "      <td>0.3027</td>\n",
       "      <td>0.02</td>\n",
       "      <td>1</td>\n",
       "    </tr>\n",
       "    <tr>\n",
       "      <th>1</th>\n",
       "      <td>AFGANISTHAN</td>\n",
       "      <td>102</td>\n",
       "      <td>FAREED AHMAD</td>\n",
       "      <td>NO</td>\n",
       "      <td>21</td>\n",
       "      <td>27</td>\n",
       "      <td>0.0</td>\n",
       "      <td>112.5</td>\n",
       "      <td>30</td>\n",
       "      <td>8.70</td>\n",
       "      <td>0.0000</td>\n",
       "      <td>1.43</td>\n",
       "      <td>0.1576</td>\n",
       "      <td>0.1576</td>\n",
       "      <td>0.02</td>\n",
       "      <td>0</td>\n",
       "    </tr>\n",
       "    <tr>\n",
       "      <th>2</th>\n",
       "      <td>AFGANISTHAN</td>\n",
       "      <td>103</td>\n",
       "      <td>NAJIBULLAH ZADRAN*</td>\n",
       "      <td>NO</td>\n",
       "      <td>82</td>\n",
       "      <td>1512</td>\n",
       "      <td>32.2</td>\n",
       "      <td>142.4</td>\n",
       "      <td>1</td>\n",
       "      <td>4.00</td>\n",
       "      <td>0.2866</td>\n",
       "      <td>0.01</td>\n",
       "      <td>0.0029</td>\n",
       "      <td>0.2895</td>\n",
       "      <td>0.02</td>\n",
       "      <td>0</td>\n",
       "    </tr>\n",
       "    <tr>\n",
       "      <th>3</th>\n",
       "      <td>AFGANISTHAN</td>\n",
       "      <td>104</td>\n",
       "      <td>QAIS AHMAD</td>\n",
       "      <td>NO</td>\n",
       "      <td>2</td>\n",
       "      <td>8</td>\n",
       "      <td>8.0</td>\n",
       "      <td>88.9</td>\n",
       "      <td>4</td>\n",
       "      <td>7.66</td>\n",
       "      <td>0.0445</td>\n",
       "      <td>2.00</td>\n",
       "      <td>0.2507</td>\n",
       "      <td>0.2951</td>\n",
       "      <td>0.02</td>\n",
       "      <td>0</td>\n",
       "    </tr>\n",
       "    <tr>\n",
       "      <th>4</th>\n",
       "      <td>AFGANISTHAN</td>\n",
       "      <td>105</td>\n",
       "      <td>HAZRAT ZAZAI</td>\n",
       "      <td>NO</td>\n",
       "      <td>32</td>\n",
       "      <td>952</td>\n",
       "      <td>32.8</td>\n",
       "      <td>136.4</td>\n",
       "      <td>0</td>\n",
       "      <td>0.00</td>\n",
       "      <td>0.2796</td>\n",
       "      <td>0.00</td>\n",
       "      <td>0.0000</td>\n",
       "      <td>0.2796</td>\n",
       "      <td>0.02</td>\n",
       "      <td>0</td>\n",
       "    </tr>\n",
       "  </tbody>\n",
       "</table>\n",
       "</div>"
      ],
      "text/plain": [
       "    Team names  PLAYER ID         PLAYER NAME Key_Player  MATCHES  TOTAL RUN  \\\n",
       "0  AFGANISTHAN        101      Mohammad Nabi*        YES      100       1667   \n",
       "1  AFGANISTHAN        102        FAREED AHMAD         NO       21         27   \n",
       "2  AFGANISTHAN        103  NAJIBULLAH ZADRAN*         NO       82       1512   \n",
       "3  AFGANISTHAN        104          QAIS AHMAD         NO        2          8   \n",
       "4  AFGANISTHAN        105        HAZRAT ZAZAI         NO       32        952   \n",
       "\n",
       "   BATTING AVG  Strike Rate  Wickets  ECONOMY  IMPACT (batting)  wicket/match  \\\n",
       "0         21.9        140.3       84     7.29            0.1920          0.84   \n",
       "1          0.0        112.5       30     8.70            0.0000          1.43   \n",
       "2         32.2        142.4        1     4.00            0.2866          0.01   \n",
       "3          8.0         88.9        4     7.66            0.0445          2.00   \n",
       "4         32.8        136.4        0     0.00            0.2796          0.00   \n",
       "\n",
       "   impact bowling  Total impact  Semi-probability  Target  \n",
       "0          0.1106        0.3027              0.02       1  \n",
       "1          0.1576        0.1576              0.02       0  \n",
       "2          0.0029        0.2895              0.02       0  \n",
       "3          0.2507        0.2951              0.02       0  \n",
       "4          0.0000        0.2796              0.02       0  "
      ]
     },
     "execution_count": 7,
     "metadata": {},
     "output_type": "execute_result"
    }
   ],
   "source": [
    "#performing label encoding on the categorical variables (Key Player to Target)\n",
    "from sklearn.preprocessing import LabelEncoder\n",
    "label_encoder = LabelEncoder()\n",
    "label = label_encoder.fit_transform(df.Key_Player)\n",
    "df['Target'] = label\n",
    "df.head()"
   ]
  },
  {
   "attachments": {},
   "cell_type": "markdown",
   "metadata": {},
   "source": [
    "# 2. Individual Histogram for the numerical features ( 3 plots )\n"
   ]
  },
  {
   "cell_type": "code",
   "execution_count": 8,
   "metadata": {},
   "outputs": [
    {
     "data": {
      "text/plain": [
       "<AxesSubplot:xlabel='BATTING AVG', ylabel='Count'>"
      ]
     },
     "execution_count": 8,
     "metadata": {},
     "output_type": "execute_result"
    },
    {
     "data": {
      "image/png": "[encoded data removed]",
      "text/plain": [
       "<Figure size 640x480 with 1 Axes>"
      ]
     },
     "metadata": {},
     "output_type": "display_data"
    }
   ],
   "source": [
    "#histogram for numerical features plot_1\n",
    "sns.histplot(df,x='BATTING AVG')"
   ]
  },
  {
   "cell_type": "code",
   "execution_count": 9,
   "metadata": {},
   "outputs": [
    {
     "data": {
      "text/plain": [
       "<AxesSubplot:xlabel='TOTAL RUN', ylabel='Count'>"
      ]
     },
     "execution_count": 9,
     "metadata": {},
     "output_type": "execute_result"
    },
    {
     "data": {
      "image/png": "[encoded data removed]",
      "text/plain": [
       "<Figure size 640x480 with 1 Axes>"
      ]
     },
     "metadata": {},
     "output_type": "display_data"
    }
   ],
   "source": [
    "#histogram for numerical features plot_2\n",
    "sns.histplot(df,x='TOTAL RUN')"
   ]
  },
  {
   "cell_type": "code",
   "execution_count": 10,
   "metadata": {},
   "outputs": [
    {
     "data": {
      "text/plain": [
       "<AxesSubplot:xlabel='Strike Rate', ylabel='Count'>"
      ]
     },
     "execution_count": 10,
     "metadata": {},
     "output_type": "execute_result"
    },
    {
     "data": {
      "image/png": "[encoded data removed]",
      "text/plain": [
       "<Figure size 640x480 with 1 Axes>"
      ]
     },
     "metadata": {},
     "output_type": "display_data"
    }
   ],
   "source": [
    "#histogram for numerical features plot_1\n",
    "sns.histplot(df,x='Strike Rate')"
   ]
  },
  {
   "attachments": {},
   "cell_type": "markdown",
   "metadata": {},
   "source": [
    "# 3. Individual Bar Chart for the categorical features  ( 6 plots )\n",
    "\n",
    "\n"
   ]
  },
  {
   "cell_type": "code",
   "execution_count": 11,
   "metadata": {},
   "outputs": [
    {
     "data": {
      "text/plain": [
       "Text(0, 0.5, 'player_count')"
      ]
     },
     "execution_count": 11,
     "metadata": {},
     "output_type": "execute_result"
    },
    {
     "data": {
      "image/png": "[encoded data removed]",
      "text/plain": [
       "<Figure size 2500x500 with 1 Axes>"
      ]
     },
     "metadata": {},
     "output_type": "display_data"
    }
   ],
   "source": [
    "#Bar chart for categorical features plot_1\n",
    "plt.figure(figsize=(25, 5))\n",
    "sns.countplot(x='Team names',data=df)\n",
    "plt.title(\"World cup players count by country\")\n",
    "plt.xlabel(\"Teams\")\n",
    "plt.ylabel(\"player_count\")"
   ]
  },
  {
   "cell_type": "code",
   "execution_count": 13,
   "metadata": {},
   "outputs": [
    {
     "ename": "ValueError",
     "evalue": "Could not interpret input 'Team names_NETHERLAND'",
     "output_type": "error",
     "traceback": [
      "\u001b[1;31m---------------------------------------------------------------------------\u001b[0m",
      "\u001b[1;31mValueError\u001b[0m                                Traceback (most recent call last)",
      "\u001b[1;32m~\\AppData\\Local\\Temp\\ipykernel_5784\\2569518478.py\u001b[0m in \u001b[0;36m<module>\u001b[1;34m\u001b[0m\n\u001b[0;32m      1\u001b[0m \u001b[1;31m#Bar chart for categorical features plot_2\u001b[0m\u001b[1;33m\u001b[0m\u001b[1;33m\u001b[0m\u001b[0m\n\u001b[1;32m----> 2\u001b[1;33m \u001b[0msns\u001b[0m\u001b[1;33m.\u001b[0m\u001b[0mcountplot\u001b[0m\u001b[1;33m(\u001b[0m\u001b[0mx\u001b[0m\u001b[1;33m=\u001b[0m\u001b[1;34m'Team names_NETHERLAND'\u001b[0m\u001b[1;33m,\u001b[0m\u001b[0mdata\u001b[0m\u001b[1;33m=\u001b[0m\u001b[0mdf\u001b[0m\u001b[1;33m)\u001b[0m\u001b[1;33m\u001b[0m\u001b[1;33m\u001b[0m\u001b[0m\n\u001b[0m\u001b[0;32m      3\u001b[0m \u001b[0mplt\u001b[0m\u001b[1;33m.\u001b[0m\u001b[0mylabel\u001b[0m\u001b[1;33m(\u001b[0m\u001b[1;34m\"player_count\"\u001b[0m\u001b[1;33m)\u001b[0m\u001b[1;33m\u001b[0m\u001b[1;33m\u001b[0m\u001b[0m\n",
      "\u001b[1;32me:\\Anaconda\\lib\\site-packages\\seaborn\\_decorators.py\u001b[0m in \u001b[0;36minner_f\u001b[1;34m(*args, **kwargs)\u001b[0m\n\u001b[0;32m     44\u001b[0m             )\n\u001b[0;32m     45\u001b[0m         \u001b[0mkwargs\u001b[0m\u001b[1;33m.\u001b[0m\u001b[0mupdate\u001b[0m\u001b[1;33m(\u001b[0m\u001b[1;33m{\u001b[0m\u001b[0mk\u001b[0m\u001b[1;33m:\u001b[0m \u001b[0marg\u001b[0m \u001b[1;32mfor\u001b[0m \u001b[0mk\u001b[0m\u001b[1;33m,\u001b[0m \u001b[0marg\u001b[0m \u001b[1;32min\u001b[0m \u001b[0mzip\u001b[0m\u001b[1;33m(\u001b[0m\u001b[0msig\u001b[0m\u001b[1;33m.\u001b[0m\u001b[0mparameters\u001b[0m\u001b[1;33m,\u001b[0m \u001b[0margs\u001b[0m\u001b[1;33m)\u001b[0m\u001b[1;33m}\u001b[0m\u001b[1;33m)\u001b[0m\u001b[1;33m\u001b[0m\u001b[1;33m\u001b[0m\u001b[0m\n\u001b[1;32m---> 46\u001b[1;33m         \u001b[1;32mreturn\u001b[0m \u001b[0mf\u001b[0m\u001b[1;33m(\u001b[0m\u001b[1;33m**\u001b[0m\u001b[0mkwargs\u001b[0m\u001b[1;33m)\u001b[0m\u001b[1;33m\u001b[0m\u001b[1;33m\u001b[0m\u001b[0m\n\u001b[0m\u001b[0;32m     47\u001b[0m     \u001b[1;32mreturn\u001b[0m \u001b[0minner_f\u001b[0m\u001b[1;33m\u001b[0m\u001b[1;33m\u001b[0m\u001b[0m\n\u001b[0;32m     48\u001b[0m \u001b[1;33m\u001b[0m\u001b[0m\n",
      "\u001b[1;32me:\\Anaconda\\lib\\site-packages\\seaborn\\categorical.py\u001b[0m in \u001b[0;36mcountplot\u001b[1;34m(x, y, hue, data, order, hue_order, orient, color, palette, saturation, dodge, ax, **kwargs)\u001b[0m\n\u001b[0;32m   3596\u001b[0m         \u001b[1;32mraise\u001b[0m \u001b[0mValueError\u001b[0m\u001b[1;33m(\u001b[0m\u001b[1;34m\"Cannot pass values for both `x` and `y`\"\u001b[0m\u001b[1;33m)\u001b[0m\u001b[1;33m\u001b[0m\u001b[1;33m\u001b[0m\u001b[0m\n\u001b[0;32m   3597\u001b[0m \u001b[1;33m\u001b[0m\u001b[0m\n\u001b[1;32m-> 3598\u001b[1;33m     plotter = _CountPlotter(\n\u001b[0m\u001b[0;32m   3599\u001b[0m         \u001b[0mx\u001b[0m\u001b[1;33m,\u001b[0m \u001b[0my\u001b[0m\u001b[1;33m,\u001b[0m \u001b[0mhue\u001b[0m\u001b[1;33m,\u001b[0m \u001b[0mdata\u001b[0m\u001b[1;33m,\u001b[0m \u001b[0morder\u001b[0m\u001b[1;33m,\u001b[0m \u001b[0mhue_order\u001b[0m\u001b[1;33m,\u001b[0m\u001b[1;33m\u001b[0m\u001b[1;33m\u001b[0m\u001b[0m\n\u001b[0;32m   3600\u001b[0m         \u001b[0mestimator\u001b[0m\u001b[1;33m,\u001b[0m \u001b[0mci\u001b[0m\u001b[1;33m,\u001b[0m \u001b[0mn_boot\u001b[0m\u001b[1;33m,\u001b[0m \u001b[0munits\u001b[0m\u001b[1;33m,\u001b[0m \u001b[0mseed\u001b[0m\u001b[1;33m,\u001b[0m\u001b[1;33m\u001b[0m\u001b[1;33m\u001b[0m\u001b[0m\n",
      "\u001b[1;32me:\\Anaconda\\lib\\site-packages\\seaborn\\categorical.py\u001b[0m in \u001b[0;36m__init__\u001b[1;34m(self, x, y, hue, data, order, hue_order, estimator, ci, n_boot, units, seed, orient, color, palette, saturation, errcolor, errwidth, capsize, dodge)\u001b[0m\n\u001b[0;32m   1582\u001b[0m                  errwidth, capsize, dodge):\n\u001b[0;32m   1583\u001b[0m         \u001b[1;34m\"\"\"Initialize the plotter.\"\"\"\u001b[0m\u001b[1;33m\u001b[0m\u001b[1;33m\u001b[0m\u001b[0m\n\u001b[1;32m-> 1584\u001b[1;33m         self.establish_variables(x, y, hue, data, orient,\n\u001b[0m\u001b[0;32m   1585\u001b[0m                                  order, hue_order, units)\n\u001b[0;32m   1586\u001b[0m         \u001b[0mself\u001b[0m\u001b[1;33m.\u001b[0m\u001b[0mestablish_colors\u001b[0m\u001b[1;33m(\u001b[0m\u001b[0mcolor\u001b[0m\u001b[1;33m,\u001b[0m \u001b[0mpalette\u001b[0m\u001b[1;33m,\u001b[0m \u001b[0msaturation\u001b[0m\u001b[1;33m)\u001b[0m\u001b[1;33m\u001b[0m\u001b[1;33m\u001b[0m\u001b[0m\n",
      "\u001b[1;32me:\\Anaconda\\lib\\site-packages\\seaborn\\categorical.py\u001b[0m in \u001b[0;36mestablish_variables\u001b[1;34m(self, x, y, hue, data, orient, order, hue_order, units)\u001b[0m\n\u001b[0;32m    151\u001b[0m                 \u001b[1;32mif\u001b[0m \u001b[0misinstance\u001b[0m\u001b[1;33m(\u001b[0m\u001b[0mvar\u001b[0m\u001b[1;33m,\u001b[0m \u001b[0mstr\u001b[0m\u001b[1;33m)\u001b[0m\u001b[1;33m:\u001b[0m\u001b[1;33m\u001b[0m\u001b[1;33m\u001b[0m\u001b[0m\n\u001b[0;32m    152\u001b[0m                     \u001b[0merr\u001b[0m \u001b[1;33m=\u001b[0m \u001b[1;34m\"Could not interpret input '{}'\"\u001b[0m\u001b[1;33m.\u001b[0m\u001b[0mformat\u001b[0m\u001b[1;33m(\u001b[0m\u001b[0mvar\u001b[0m\u001b[1;33m)\u001b[0m\u001b[1;33m\u001b[0m\u001b[1;33m\u001b[0m\u001b[0m\n\u001b[1;32m--> 153\u001b[1;33m                     \u001b[1;32mraise\u001b[0m \u001b[0mValueError\u001b[0m\u001b[1;33m(\u001b[0m\u001b[0merr\u001b[0m\u001b[1;33m)\u001b[0m\u001b[1;33m\u001b[0m\u001b[1;33m\u001b[0m\u001b[0m\n\u001b[0m\u001b[0;32m    154\u001b[0m \u001b[1;33m\u001b[0m\u001b[0m\n\u001b[0;32m    155\u001b[0m             \u001b[1;31m# Figure out the plotting orientation\u001b[0m\u001b[1;33m\u001b[0m\u001b[1;33m\u001b[0m\u001b[0m\n",
      "\u001b[1;31mValueError\u001b[0m: Could not interpret input 'Team names_NETHERLAND'"
     ]
    }
   ],
   "source": [
    "#Bar chart for categorical features plot_2\n",
    "sns.countplot(x='Team names_NETHERLAND',data=df2)\n",
    "plt.ylabel(\"player_count\")"
   ]
  },
  {
   "cell_type": "code",
   "execution_count": null,
   "metadata": {},
   "outputs": [],
   "source": [
    "#Bar chart for categorical features plot_3\n",
    "sns.countplot(x='Team names_INDIA',data=df2)"
   ]
  },
  {
   "cell_type": "code",
   "execution_count": null,
   "metadata": {},
   "outputs": [],
   "source": [
    "#Bar chart for categorical features plot_4\n",
    "sns.countplot(x='Team names_AUSTRALIA',data=df2)"
   ]
  },
  {
   "cell_type": "code",
   "execution_count": null,
   "metadata": {},
   "outputs": [],
   "source": [
    "#Bar chart for categorical features plot_5\n",
    "sns.countplot(x='Key_Player_NO',data=df2)"
   ]
  },
  {
   "cell_type": "code",
   "execution_count": null,
   "metadata": {},
   "outputs": [],
   "source": [
    "#Bar chart for categorical features plot_6\n",
    "sns.countplot(x='Key_Player_YES',data=df2)"
   ]
  },
  {
   "cell_type": "code",
   "execution_count": null,
   "metadata": {},
   "outputs": [],
   "source": []
  }
 ],
 "metadata": {
  "kernelspec": {
   "display_name": "base",
   "language": "python",
   "name": "python3"
  },
  "language_info": {
   "codemirror_mode": {
    "name": "ipython",
    "version": 3
   },
   "file_extension": ".py",
   "mimetype": "text/x-python",
   "name": "python",
   "nbconvert_exporter": "python",
   "pygments_lexer": "ipython3",
   "version": "3.9.13"
  },
  "orig_nbformat": 4,
  "vscode": {
   "interpreter": {
    "hash": "91bb753b057673435fb8d6f6a083e6c818364728098c7ae050ca3a25357dd754"
   }
  }
 },
 "nbformat": 4,
 "nbformat_minor": 2
}
