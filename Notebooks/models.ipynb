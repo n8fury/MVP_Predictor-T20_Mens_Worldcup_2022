{
 "cells": [
  {
   "cell_type": "code",
   "execution_count": 2,
   "metadata": {},
   "outputs": [],
   "source": [
    "import pandas as pd\n",
    "import numpy as np\n",
    "import matplotlib.pyplot as plt\n",
    "import seaborn as sns\n",
    "\n",
    "import warnings\n",
    "warnings.filterwarnings(\"ignore\")\n"
   ]
  },
  {
   "cell_type": "code",
   "execution_count": 3,
   "metadata": {},
   "outputs": [
    {
     "data": {
      "text/html": [
       "<div>\n",
       "<style scoped>\n",
       "    .dataframe tbody tr th:only-of-type {\n",
       "        vertical-align: middle;\n",
       "    }\n",
       "\n",
       "    .dataframe tbody tr th {\n",
       "        vertical-align: top;\n",
       "    }\n",
       "\n",
       "    .dataframe thead th {\n",
       "        text-align: right;\n",
       "    }\n",
       "</style>\n",
       "<table border=\"1\" class=\"dataframe\">\n",
       "  <thead>\n",
       "    <tr style=\"text-align: right;\">\n",
       "      <th></th>\n",
       "      <th>Team names</th>\n",
       "      <th>PLAYER ID</th>\n",
       "      <th>PLAYER NAME</th>\n",
       "      <th>Key_Player</th>\n",
       "      <th>MATCHES</th>\n",
       "      <th>TOTAL RUN</th>\n",
       "      <th>BATTING AVG</th>\n",
       "      <th>Strike Rate</th>\n",
       "      <th>Wickets</th>\n",
       "      <th>ECONOMY</th>\n",
       "      <th>IMPACT (batting)</th>\n",
       "      <th>wicket/match</th>\n",
       "      <th>impact bowling</th>\n",
       "      <th>Total impact</th>\n",
       "      <th>Semi-probability</th>\n",
       "      <th>MVP</th>\n",
       "    </tr>\n",
       "  </thead>\n",
       "  <tbody>\n",
       "    <tr>\n",
       "      <th>0</th>\n",
       "      <td>AFGANISTHAN</td>\n",
       "      <td>101</td>\n",
       "      <td>Mohammad Nabi*</td>\n",
       "      <td>NO</td>\n",
       "      <td>100</td>\n",
       "      <td>1667</td>\n",
       "      <td>21.9</td>\n",
       "      <td>140.3</td>\n",
       "      <td>84</td>\n",
       "      <td>7.29</td>\n",
       "      <td>0.19</td>\n",
       "      <td>0.84</td>\n",
       "      <td>0.11</td>\n",
       "      <td>0.30</td>\n",
       "      <td>0.02</td>\n",
       "      <td>YES</td>\n",
       "    </tr>\n",
       "    <tr>\n",
       "      <th>1</th>\n",
       "      <td>AFGANISTHAN</td>\n",
       "      <td>102</td>\n",
       "      <td>FAREED AHMAD</td>\n",
       "      <td>NO</td>\n",
       "      <td>21</td>\n",
       "      <td>27</td>\n",
       "      <td>0.0</td>\n",
       "      <td>112.5</td>\n",
       "      <td>30</td>\n",
       "      <td>8.70</td>\n",
       "      <td>0.00</td>\n",
       "      <td>1.43</td>\n",
       "      <td>0.16</td>\n",
       "      <td>0.16</td>\n",
       "      <td>0.02</td>\n",
       "      <td>NO</td>\n",
       "    </tr>\n",
       "    <tr>\n",
       "      <th>2</th>\n",
       "      <td>AFGANISTHAN</td>\n",
       "      <td>103</td>\n",
       "      <td>NAJIBULLAH ZADRAN*</td>\n",
       "      <td>NO</td>\n",
       "      <td>82</td>\n",
       "      <td>1512</td>\n",
       "      <td>32.2</td>\n",
       "      <td>142.4</td>\n",
       "      <td>1</td>\n",
       "      <td>4.00</td>\n",
       "      <td>0.29</td>\n",
       "      <td>0.01</td>\n",
       "      <td>0.00</td>\n",
       "      <td>0.29</td>\n",
       "      <td>0.02</td>\n",
       "      <td>NO</td>\n",
       "    </tr>\n",
       "    <tr>\n",
       "      <th>3</th>\n",
       "      <td>AFGANISTHAN</td>\n",
       "      <td>104</td>\n",
       "      <td>QAIS AHMAD</td>\n",
       "      <td>NO</td>\n",
       "      <td>2</td>\n",
       "      <td>8</td>\n",
       "      <td>8.0</td>\n",
       "      <td>88.9</td>\n",
       "      <td>4</td>\n",
       "      <td>7.66</td>\n",
       "      <td>0.04</td>\n",
       "      <td>2.00</td>\n",
       "      <td>0.25</td>\n",
       "      <td>0.30</td>\n",
       "      <td>0.02</td>\n",
       "      <td>NO</td>\n",
       "    </tr>\n",
       "    <tr>\n",
       "      <th>4</th>\n",
       "      <td>AFGANISTHAN</td>\n",
       "      <td>105</td>\n",
       "      <td>HAZRAT ZAZAI</td>\n",
       "      <td>YES</td>\n",
       "      <td>32</td>\n",
       "      <td>952</td>\n",
       "      <td>32.8</td>\n",
       "      <td>136.4</td>\n",
       "      <td>0</td>\n",
       "      <td>0.00</td>\n",
       "      <td>0.28</td>\n",
       "      <td>0.00</td>\n",
       "      <td>0.00</td>\n",
       "      <td>0.28</td>\n",
       "      <td>0.02</td>\n",
       "      <td>NO</td>\n",
       "    </tr>\n",
       "  </tbody>\n",
       "</table>\n",
       "</div>"
      ],
      "text/plain": [
       "    Team names  PLAYER ID         PLAYER NAME Key_Player  MATCHES  TOTAL RUN  \\\n",
       "0  AFGANISTHAN        101      Mohammad Nabi*         NO      100       1667   \n",
       "1  AFGANISTHAN        102        FAREED AHMAD         NO       21         27   \n",
       "2  AFGANISTHAN        103  NAJIBULLAH ZADRAN*         NO       82       1512   \n",
       "3  AFGANISTHAN        104          QAIS AHMAD         NO        2          8   \n",
       "4  AFGANISTHAN        105        HAZRAT ZAZAI        YES       32        952   \n",
       "\n",
       "   BATTING AVG  Strike Rate  Wickets  ECONOMY  IMPACT (batting)  wicket/match  \\\n",
       "0         21.9        140.3       84     7.29              0.19          0.84   \n",
       "1          0.0        112.5       30     8.70              0.00          1.43   \n",
       "2         32.2        142.4        1     4.00              0.29          0.01   \n",
       "3          8.0         88.9        4     7.66              0.04          2.00   \n",
       "4         32.8        136.4        0     0.00              0.28          0.00   \n",
       "\n",
       "   impact bowling  Total impact  Semi-probability  MVP  \n",
       "0            0.11          0.30              0.02  YES  \n",
       "1            0.16          0.16              0.02   NO  \n",
       "2            0.00          0.29              0.02   NO  \n",
       "3            0.25          0.30              0.02   NO  \n",
       "4            0.00          0.28              0.02   NO  "
      ]
     },
     "execution_count": 3,
     "metadata": {},
     "output_type": "execute_result"
    }
   ],
   "source": [
    "df = pd.read_csv('CSE_445_Project_DB.csv')\n",
    "df.head()\n"
   ]
  },
  {
   "cell_type": "code",
   "execution_count": 4,
   "metadata": {},
   "outputs": [
    {
     "data": {
      "text/plain": [
       "Team names           object\n",
       "PLAYER ID             int64\n",
       "PLAYER NAME          object\n",
       "Key_Player           object\n",
       "MATCHES               int64\n",
       "TOTAL RUN             int64\n",
       "BATTING AVG         float64\n",
       "Strike Rate         float64\n",
       "Wickets               int64\n",
       "ECONOMY             float64\n",
       "IMPACT (batting)    float64\n",
       "wicket/match        float64\n",
       "impact bowling      float64\n",
       "Total impact        float64\n",
       "Semi-probability    float64\n",
       "MVP                  object\n",
       "dtype: object"
      ]
     },
     "execution_count": 4,
     "metadata": {},
     "output_type": "execute_result"
    }
   ],
   "source": [
    "df.dtypes"
   ]
  },
  {
   "cell_type": "code",
   "execution_count": 5,
   "metadata": {},
   "outputs": [
    {
     "data": {
      "text/plain": [
       "(205, 16)"
      ]
     },
     "execution_count": 5,
     "metadata": {},
     "output_type": "execute_result"
    }
   ],
   "source": [
    "df.shape\n"
   ]
  },
  {
   "cell_type": "code",
   "execution_count": 6,
   "metadata": {},
   "outputs": [],
   "source": [
    "df.drop(['Team names', 'PLAYER NAME'], axis=1, inplace=True)\n"
   ]
  },
  {
   "cell_type": "code",
   "execution_count": 7,
   "metadata": {},
   "outputs": [
    {
     "data": {
      "text/plain": [
       "(205, 14)"
      ]
     },
     "execution_count": 7,
     "metadata": {},
     "output_type": "execute_result"
    }
   ],
   "source": [
    "df.shape"
   ]
  },
  {
   "cell_type": "code",
   "execution_count": 8,
   "metadata": {},
   "outputs": [
    {
     "data": {
      "text/html": [
       "<div>\n",
       "<style scoped>\n",
       "    .dataframe tbody tr th:only-of-type {\n",
       "        vertical-align: middle;\n",
       "    }\n",
       "\n",
       "    .dataframe tbody tr th {\n",
       "        vertical-align: top;\n",
       "    }\n",
       "\n",
       "    .dataframe thead th {\n",
       "        text-align: right;\n",
       "    }\n",
       "</style>\n",
       "<table border=\"1\" class=\"dataframe\">\n",
       "  <thead>\n",
       "    <tr style=\"text-align: right;\">\n",
       "      <th></th>\n",
       "      <th>PLAYER ID</th>\n",
       "      <th>MATCHES</th>\n",
       "      <th>TOTAL RUN</th>\n",
       "      <th>BATTING AVG</th>\n",
       "      <th>Strike Rate</th>\n",
       "      <th>Wickets</th>\n",
       "      <th>ECONOMY</th>\n",
       "      <th>IMPACT (batting)</th>\n",
       "      <th>wicket/match</th>\n",
       "      <th>impact bowling</th>\n",
       "      <th>Total impact</th>\n",
       "      <th>Semi-probability</th>\n",
       "    </tr>\n",
       "  </thead>\n",
       "  <tbody>\n",
       "    <tr>\n",
       "      <th>count</th>\n",
       "      <td>205.000000</td>\n",
       "      <td>205.000000</td>\n",
       "      <td>205.000000</td>\n",
       "      <td>205.000000</td>\n",
       "      <td>205.000000</td>\n",
       "      <td>205.000000</td>\n",
       "      <td>205.000000</td>\n",
       "      <td>205.000000</td>\n",
       "      <td>205.00000</td>\n",
       "      <td>205.000000</td>\n",
       "      <td>205.000000</td>\n",
       "      <td>205.000000</td>\n",
       "    </tr>\n",
       "    <tr>\n",
       "      <th>mean</th>\n",
       "      <td>207.151220</td>\n",
       "      <td>39.351220</td>\n",
       "      <td>555.717073</td>\n",
       "      <td>19.039659</td>\n",
       "      <td>112.941415</td>\n",
       "      <td>22.131707</td>\n",
       "      <td>5.895122</td>\n",
       "      <td>0.151366</td>\n",
       "      <td>0.60078</td>\n",
       "      <td>0.076000</td>\n",
       "      <td>0.227171</td>\n",
       "      <td>0.183756</td>\n",
       "    </tr>\n",
       "    <tr>\n",
       "      <th>std</th>\n",
       "      <td>64.938973</td>\n",
       "      <td>26.790647</td>\n",
       "      <td>738.183740</td>\n",
       "      <td>11.570433</td>\n",
       "      <td>37.371603</td>\n",
       "      <td>27.607849</td>\n",
       "      <td>3.908878</td>\n",
       "      <td>0.108072</td>\n",
       "      <td>0.57259</td>\n",
       "      <td>0.073562</td>\n",
       "      <td>0.091393</td>\n",
       "      <td>0.180666</td>\n",
       "    </tr>\n",
       "    <tr>\n",
       "      <th>min</th>\n",
       "      <td>101.000000</td>\n",
       "      <td>0.000000</td>\n",
       "      <td>0.000000</td>\n",
       "      <td>0.000000</td>\n",
       "      <td>0.000000</td>\n",
       "      <td>0.000000</td>\n",
       "      <td>0.000000</td>\n",
       "      <td>0.000000</td>\n",
       "      <td>0.00000</td>\n",
       "      <td>0.000000</td>\n",
       "      <td>0.000000</td>\n",
       "      <td>0.000000</td>\n",
       "    </tr>\n",
       "    <tr>\n",
       "      <th>25%</th>\n",
       "      <td>152.000000</td>\n",
       "      <td>20.000000</td>\n",
       "      <td>34.000000</td>\n",
       "      <td>10.000000</td>\n",
       "      <td>100.000000</td>\n",
       "      <td>0.000000</td>\n",
       "      <td>0.000000</td>\n",
       "      <td>0.060000</td>\n",
       "      <td>0.00000</td>\n",
       "      <td>0.000000</td>\n",
       "      <td>0.170000</td>\n",
       "      <td>0.020000</td>\n",
       "    </tr>\n",
       "    <tr>\n",
       "      <th>50%</th>\n",
       "      <td>204.000000</td>\n",
       "      <td>34.000000</td>\n",
       "      <td>260.000000</td>\n",
       "      <td>20.350000</td>\n",
       "      <td>120.510000</td>\n",
       "      <td>10.000000</td>\n",
       "      <td>7.290000</td>\n",
       "      <td>0.150000</td>\n",
       "      <td>0.57000</td>\n",
       "      <td>0.070000</td>\n",
       "      <td>0.220000</td>\n",
       "      <td>0.100000</td>\n",
       "    </tr>\n",
       "    <tr>\n",
       "      <th>75%</th>\n",
       "      <td>259.000000</td>\n",
       "      <td>53.000000</td>\n",
       "      <td>792.000000</td>\n",
       "      <td>26.500000</td>\n",
       "      <td>136.200000</td>\n",
       "      <td>35.000000</td>\n",
       "      <td>8.200000</td>\n",
       "      <td>0.220000</td>\n",
       "      <td>1.10000</td>\n",
       "      <td>0.140000</td>\n",
       "      <td>0.280000</td>\n",
       "      <td>0.350000</td>\n",
       "    </tr>\n",
       "    <tr>\n",
       "      <th>max</th>\n",
       "      <td>326.000000</td>\n",
       "      <td>143.000000</td>\n",
       "      <td>3794.000000</td>\n",
       "      <td>57.380000</td>\n",
       "      <td>225.000000</td>\n",
       "      <td>125.000000</td>\n",
       "      <td>21.000000</td>\n",
       "      <td>0.490000</td>\n",
       "      <td>2.25000</td>\n",
       "      <td>0.270000</td>\n",
       "      <td>0.580000</td>\n",
       "      <td>0.500000</td>\n",
       "    </tr>\n",
       "  </tbody>\n",
       "</table>\n",
       "</div>"
      ],
      "text/plain": [
       "        PLAYER ID     MATCHES    TOTAL RUN  BATTING AVG  Strike Rate  \\\n",
       "count  205.000000  205.000000   205.000000   205.000000   205.000000   \n",
       "mean   207.151220   39.351220   555.717073    19.039659   112.941415   \n",
       "std     64.938973   26.790647   738.183740    11.570433    37.371603   \n",
       "min    101.000000    0.000000     0.000000     0.000000     0.000000   \n",
       "25%    152.000000   20.000000    34.000000    10.000000   100.000000   \n",
       "50%    204.000000   34.000000   260.000000    20.350000   120.510000   \n",
       "75%    259.000000   53.000000   792.000000    26.500000   136.200000   \n",
       "max    326.000000  143.000000  3794.000000    57.380000   225.000000   \n",
       "\n",
       "          Wickets     ECONOMY  IMPACT (batting)  wicket/match  impact bowling  \\\n",
       "count  205.000000  205.000000        205.000000     205.00000      205.000000   \n",
       "mean    22.131707    5.895122          0.151366       0.60078        0.076000   \n",
       "std     27.607849    3.908878          0.108072       0.57259        0.073562   \n",
       "min      0.000000    0.000000          0.000000       0.00000        0.000000   \n",
       "25%      0.000000    0.000000          0.060000       0.00000        0.000000   \n",
       "50%     10.000000    7.290000          0.150000       0.57000        0.070000   \n",
       "75%     35.000000    8.200000          0.220000       1.10000        0.140000   \n",
       "max    125.000000   21.000000          0.490000       2.25000        0.270000   \n",
       "\n",
       "       Total impact  Semi-probability  \n",
       "count    205.000000        205.000000  \n",
       "mean       0.227171          0.183756  \n",
       "std        0.091393          0.180666  \n",
       "min        0.000000          0.000000  \n",
       "25%        0.170000          0.020000  \n",
       "50%        0.220000          0.100000  \n",
       "75%        0.280000          0.350000  \n",
       "max        0.580000          0.500000  "
      ]
     },
     "execution_count": 8,
     "metadata": {},
     "output_type": "execute_result"
    }
   ],
   "source": [
    "df.describe()"
   ]
  },
  {
   "cell_type": "code",
   "execution_count": 9,
   "metadata": {},
   "outputs": [
    {
     "data": {
      "text/plain": [
       "0"
      ]
     },
     "execution_count": 9,
     "metadata": {},
     "output_type": "execute_result"
    }
   ],
   "source": [
    "df.duplicated().sum()\n"
   ]
  },
  {
   "cell_type": "code",
   "execution_count": 10,
   "metadata": {},
   "outputs": [
    {
     "data": {
      "text/plain": [
       "PLAYER ID           0\n",
       "Key_Player          0\n",
       "MATCHES             0\n",
       "TOTAL RUN           0\n",
       "BATTING AVG         0\n",
       "Strike Rate         0\n",
       "Wickets             0\n",
       "ECONOMY             0\n",
       "IMPACT (batting)    0\n",
       "wicket/match        0\n",
       "impact bowling      0\n",
       "Total impact        0\n",
       "Semi-probability    0\n",
       "MVP                 0\n",
       "dtype: int64"
      ]
     },
     "execution_count": 10,
     "metadata": {},
     "output_type": "execute_result"
    }
   ],
   "source": [
    "df.isnull().sum()\n"
   ]
  },
  {
   "cell_type": "code",
   "execution_count": 11,
   "metadata": {},
   "outputs": [
    {
     "data": {
      "text/plain": [
       "NO     162\n",
       "YES     43\n",
       "Name: Key_Player, dtype: int64"
      ]
     },
     "execution_count": 11,
     "metadata": {},
     "output_type": "execute_result"
    }
   ],
   "source": [
    "df['Key_Player'].value_counts()\n"
   ]
  },
  {
   "cell_type": "code",
   "execution_count": 12,
   "metadata": {},
   "outputs": [
    {
     "data": {
      "text/html": [
       "<div>\n",
       "<style scoped>\n",
       "    .dataframe tbody tr th:only-of-type {\n",
       "        vertical-align: middle;\n",
       "    }\n",
       "\n",
       "    .dataframe tbody tr th {\n",
       "        vertical-align: top;\n",
       "    }\n",
       "\n",
       "    .dataframe thead th {\n",
       "        text-align: right;\n",
       "    }\n",
       "</style>\n",
       "<table border=\"1\" class=\"dataframe\">\n",
       "  <thead>\n",
       "    <tr style=\"text-align: right;\">\n",
       "      <th></th>\n",
       "      <th>PLAYER ID</th>\n",
       "      <th>Key_Player</th>\n",
       "      <th>MATCHES</th>\n",
       "      <th>TOTAL RUN</th>\n",
       "      <th>BATTING AVG</th>\n",
       "      <th>Strike Rate</th>\n",
       "      <th>Wickets</th>\n",
       "      <th>ECONOMY</th>\n",
       "      <th>IMPACT (batting)</th>\n",
       "      <th>wicket/match</th>\n",
       "      <th>impact bowling</th>\n",
       "      <th>Total impact</th>\n",
       "      <th>Semi-probability</th>\n",
       "      <th>MVP</th>\n",
       "      <th>Target_key_player</th>\n",
       "    </tr>\n",
       "  </thead>\n",
       "  <tbody>\n",
       "    <tr>\n",
       "      <th>0</th>\n",
       "      <td>101</td>\n",
       "      <td>NO</td>\n",
       "      <td>100</td>\n",
       "      <td>1667</td>\n",
       "      <td>21.9</td>\n",
       "      <td>140.3</td>\n",
       "      <td>84</td>\n",
       "      <td>7.29</td>\n",
       "      <td>0.19</td>\n",
       "      <td>0.84</td>\n",
       "      <td>0.11</td>\n",
       "      <td>0.30</td>\n",
       "      <td>0.02</td>\n",
       "      <td>YES</td>\n",
       "      <td>0</td>\n",
       "    </tr>\n",
       "    <tr>\n",
       "      <th>1</th>\n",
       "      <td>102</td>\n",
       "      <td>NO</td>\n",
       "      <td>21</td>\n",
       "      <td>27</td>\n",
       "      <td>0.0</td>\n",
       "      <td>112.5</td>\n",
       "      <td>30</td>\n",
       "      <td>8.70</td>\n",
       "      <td>0.00</td>\n",
       "      <td>1.43</td>\n",
       "      <td>0.16</td>\n",
       "      <td>0.16</td>\n",
       "      <td>0.02</td>\n",
       "      <td>NO</td>\n",
       "      <td>0</td>\n",
       "    </tr>\n",
       "    <tr>\n",
       "      <th>2</th>\n",
       "      <td>103</td>\n",
       "      <td>NO</td>\n",
       "      <td>82</td>\n",
       "      <td>1512</td>\n",
       "      <td>32.2</td>\n",
       "      <td>142.4</td>\n",
       "      <td>1</td>\n",
       "      <td>4.00</td>\n",
       "      <td>0.29</td>\n",
       "      <td>0.01</td>\n",
       "      <td>0.00</td>\n",
       "      <td>0.29</td>\n",
       "      <td>0.02</td>\n",
       "      <td>NO</td>\n",
       "      <td>0</td>\n",
       "    </tr>\n",
       "    <tr>\n",
       "      <th>3</th>\n",
       "      <td>104</td>\n",
       "      <td>NO</td>\n",
       "      <td>2</td>\n",
       "      <td>8</td>\n",
       "      <td>8.0</td>\n",
       "      <td>88.9</td>\n",
       "      <td>4</td>\n",
       "      <td>7.66</td>\n",
       "      <td>0.04</td>\n",
       "      <td>2.00</td>\n",
       "      <td>0.25</td>\n",
       "      <td>0.30</td>\n",
       "      <td>0.02</td>\n",
       "      <td>NO</td>\n",
       "      <td>0</td>\n",
       "    </tr>\n",
       "    <tr>\n",
       "      <th>4</th>\n",
       "      <td>105</td>\n",
       "      <td>YES</td>\n",
       "      <td>32</td>\n",
       "      <td>952</td>\n",
       "      <td>32.8</td>\n",
       "      <td>136.4</td>\n",
       "      <td>0</td>\n",
       "      <td>0.00</td>\n",
       "      <td>0.28</td>\n",
       "      <td>0.00</td>\n",
       "      <td>0.00</td>\n",
       "      <td>0.28</td>\n",
       "      <td>0.02</td>\n",
       "      <td>NO</td>\n",
       "      <td>1</td>\n",
       "    </tr>\n",
       "  </tbody>\n",
       "</table>\n",
       "</div>"
      ],
      "text/plain": [
       "   PLAYER ID Key_Player  MATCHES  TOTAL RUN  BATTING AVG  Strike Rate  \\\n",
       "0        101         NO      100       1667         21.9        140.3   \n",
       "1        102         NO       21         27          0.0        112.5   \n",
       "2        103         NO       82       1512         32.2        142.4   \n",
       "3        104         NO        2          8          8.0         88.9   \n",
       "4        105        YES       32        952         32.8        136.4   \n",
       "\n",
       "   Wickets  ECONOMY  IMPACT (batting)  wicket/match  impact bowling  \\\n",
       "0       84     7.29              0.19          0.84            0.11   \n",
       "1       30     8.70              0.00          1.43            0.16   \n",
       "2        1     4.00              0.29          0.01            0.00   \n",
       "3        4     7.66              0.04          2.00            0.25   \n",
       "4        0     0.00              0.28          0.00            0.00   \n",
       "\n",
       "   Total impact  Semi-probability  MVP  Target_key_player  \n",
       "0          0.30              0.02  YES                  0  \n",
       "1          0.16              0.02   NO                  0  \n",
       "2          0.29              0.02   NO                  0  \n",
       "3          0.30              0.02   NO                  0  \n",
       "4          0.28              0.02   NO                  1  "
      ]
     },
     "execution_count": 12,
     "metadata": {},
     "output_type": "execute_result"
    }
   ],
   "source": [
    "from sklearn.preprocessing import LabelEncoder\n",
    "label_encoder = LabelEncoder()\n",
    "label = label_encoder.fit_transform(df.Key_Player)\n",
    "df['Target_key_player'] = label\n",
    "df.head()\n"
   ]
  },
  {
   "cell_type": "code",
   "execution_count": 13,
   "metadata": {},
   "outputs": [
    {
     "data": {
      "text/html": [
       "<div>\n",
       "<style scoped>\n",
       "    .dataframe tbody tr th:only-of-type {\n",
       "        vertical-align: middle;\n",
       "    }\n",
       "\n",
       "    .dataframe tbody tr th {\n",
       "        vertical-align: top;\n",
       "    }\n",
       "\n",
       "    .dataframe thead th {\n",
       "        text-align: right;\n",
       "    }\n",
       "</style>\n",
       "<table border=\"1\" class=\"dataframe\">\n",
       "  <thead>\n",
       "    <tr style=\"text-align: right;\">\n",
       "      <th></th>\n",
       "      <th>PLAYER ID</th>\n",
       "      <th>Key_Player</th>\n",
       "      <th>MATCHES</th>\n",
       "      <th>TOTAL RUN</th>\n",
       "      <th>BATTING AVG</th>\n",
       "      <th>Strike Rate</th>\n",
       "      <th>Wickets</th>\n",
       "      <th>ECONOMY</th>\n",
       "      <th>IMPACT (batting)</th>\n",
       "      <th>wicket/match</th>\n",
       "      <th>impact bowling</th>\n",
       "      <th>Total impact</th>\n",
       "      <th>Semi-probability</th>\n",
       "      <th>MVP</th>\n",
       "      <th>Target_key_player</th>\n",
       "      <th>Target_MVP</th>\n",
       "    </tr>\n",
       "  </thead>\n",
       "  <tbody>\n",
       "    <tr>\n",
       "      <th>0</th>\n",
       "      <td>101</td>\n",
       "      <td>NO</td>\n",
       "      <td>100</td>\n",
       "      <td>1667</td>\n",
       "      <td>21.9</td>\n",
       "      <td>140.3</td>\n",
       "      <td>84</td>\n",
       "      <td>7.29</td>\n",
       "      <td>0.19</td>\n",
       "      <td>0.84</td>\n",
       "      <td>0.11</td>\n",
       "      <td>0.30</td>\n",
       "      <td>0.02</td>\n",
       "      <td>YES</td>\n",
       "      <td>0</td>\n",
       "      <td>1</td>\n",
       "    </tr>\n",
       "    <tr>\n",
       "      <th>1</th>\n",
       "      <td>102</td>\n",
       "      <td>NO</td>\n",
       "      <td>21</td>\n",
       "      <td>27</td>\n",
       "      <td>0.0</td>\n",
       "      <td>112.5</td>\n",
       "      <td>30</td>\n",
       "      <td>8.70</td>\n",
       "      <td>0.00</td>\n",
       "      <td>1.43</td>\n",
       "      <td>0.16</td>\n",
       "      <td>0.16</td>\n",
       "      <td>0.02</td>\n",
       "      <td>NO</td>\n",
       "      <td>0</td>\n",
       "      <td>0</td>\n",
       "    </tr>\n",
       "    <tr>\n",
       "      <th>2</th>\n",
       "      <td>103</td>\n",
       "      <td>NO</td>\n",
       "      <td>82</td>\n",
       "      <td>1512</td>\n",
       "      <td>32.2</td>\n",
       "      <td>142.4</td>\n",
       "      <td>1</td>\n",
       "      <td>4.00</td>\n",
       "      <td>0.29</td>\n",
       "      <td>0.01</td>\n",
       "      <td>0.00</td>\n",
       "      <td>0.29</td>\n",
       "      <td>0.02</td>\n",
       "      <td>NO</td>\n",
       "      <td>0</td>\n",
       "      <td>0</td>\n",
       "    </tr>\n",
       "    <tr>\n",
       "      <th>3</th>\n",
       "      <td>104</td>\n",
       "      <td>NO</td>\n",
       "      <td>2</td>\n",
       "      <td>8</td>\n",
       "      <td>8.0</td>\n",
       "      <td>88.9</td>\n",
       "      <td>4</td>\n",
       "      <td>7.66</td>\n",
       "      <td>0.04</td>\n",
       "      <td>2.00</td>\n",
       "      <td>0.25</td>\n",
       "      <td>0.30</td>\n",
       "      <td>0.02</td>\n",
       "      <td>NO</td>\n",
       "      <td>0</td>\n",
       "      <td>0</td>\n",
       "    </tr>\n",
       "    <tr>\n",
       "      <th>4</th>\n",
       "      <td>105</td>\n",
       "      <td>YES</td>\n",
       "      <td>32</td>\n",
       "      <td>952</td>\n",
       "      <td>32.8</td>\n",
       "      <td>136.4</td>\n",
       "      <td>0</td>\n",
       "      <td>0.00</td>\n",
       "      <td>0.28</td>\n",
       "      <td>0.00</td>\n",
       "      <td>0.00</td>\n",
       "      <td>0.28</td>\n",
       "      <td>0.02</td>\n",
       "      <td>NO</td>\n",
       "      <td>1</td>\n",
       "      <td>0</td>\n",
       "    </tr>\n",
       "  </tbody>\n",
       "</table>\n",
       "</div>"
      ],
      "text/plain": [
       "   PLAYER ID Key_Player  MATCHES  TOTAL RUN  BATTING AVG  Strike Rate  \\\n",
       "0        101         NO      100       1667         21.9        140.3   \n",
       "1        102         NO       21         27          0.0        112.5   \n",
       "2        103         NO       82       1512         32.2        142.4   \n",
       "3        104         NO        2          8          8.0         88.9   \n",
       "4        105        YES       32        952         32.8        136.4   \n",
       "\n",
       "   Wickets  ECONOMY  IMPACT (batting)  wicket/match  impact bowling  \\\n",
       "0       84     7.29              0.19          0.84            0.11   \n",
       "1       30     8.70              0.00          1.43            0.16   \n",
       "2        1     4.00              0.29          0.01            0.00   \n",
       "3        4     7.66              0.04          2.00            0.25   \n",
       "4        0     0.00              0.28          0.00            0.00   \n",
       "\n",
       "   Total impact  Semi-probability  MVP  Target_key_player  Target_MVP  \n",
       "0          0.30              0.02  YES                  0           1  \n",
       "1          0.16              0.02   NO                  0           0  \n",
       "2          0.29              0.02   NO                  0           0  \n",
       "3          0.30              0.02   NO                  0           0  \n",
       "4          0.28              0.02   NO                  1           0  "
      ]
     },
     "execution_count": 13,
     "metadata": {},
     "output_type": "execute_result"
    }
   ],
   "source": [
    "from sklearn.preprocessing import LabelEncoder\n",
    "label_encoder1 = LabelEncoder()\n",
    "label1 = label_encoder1.fit_transform(df.MVP)\n",
    "df['Target_MVP'] = label1\n",
    "df.head()\n"
   ]
  },
  {
   "cell_type": "code",
   "execution_count": 14,
   "metadata": {},
   "outputs": [
    {
     "data": {
      "text/html": [
       "<div>\n",
       "<style scoped>\n",
       "    .dataframe tbody tr th:only-of-type {\n",
       "        vertical-align: middle;\n",
       "    }\n",
       "\n",
       "    .dataframe tbody tr th {\n",
       "        vertical-align: top;\n",
       "    }\n",
       "\n",
       "    .dataframe thead th {\n",
       "        text-align: right;\n",
       "    }\n",
       "</style>\n",
       "<table border=\"1\" class=\"dataframe\">\n",
       "  <thead>\n",
       "    <tr style=\"text-align: right;\">\n",
       "      <th></th>\n",
       "      <th>PLAYER ID</th>\n",
       "      <th>MATCHES</th>\n",
       "      <th>TOTAL RUN</th>\n",
       "      <th>BATTING AVG</th>\n",
       "      <th>Strike Rate</th>\n",
       "      <th>Wickets</th>\n",
       "      <th>ECONOMY</th>\n",
       "      <th>IMPACT (batting)</th>\n",
       "      <th>wicket/match</th>\n",
       "      <th>impact bowling</th>\n",
       "      <th>Total impact</th>\n",
       "      <th>Semi-probability</th>\n",
       "      <th>Target_key_player</th>\n",
       "      <th>Target_MVP</th>\n",
       "    </tr>\n",
       "  </thead>\n",
       "  <tbody>\n",
       "    <tr>\n",
       "      <th>0</th>\n",
       "      <td>101</td>\n",
       "      <td>100</td>\n",
       "      <td>1667</td>\n",
       "      <td>21.9</td>\n",
       "      <td>140.3</td>\n",
       "      <td>84</td>\n",
       "      <td>7.29</td>\n",
       "      <td>0.19</td>\n",
       "      <td>0.84</td>\n",
       "      <td>0.11</td>\n",
       "      <td>0.30</td>\n",
       "      <td>0.02</td>\n",
       "      <td>0</td>\n",
       "      <td>1</td>\n",
       "    </tr>\n",
       "    <tr>\n",
       "      <th>1</th>\n",
       "      <td>102</td>\n",
       "      <td>21</td>\n",
       "      <td>27</td>\n",
       "      <td>0.0</td>\n",
       "      <td>112.5</td>\n",
       "      <td>30</td>\n",
       "      <td>8.70</td>\n",
       "      <td>0.00</td>\n",
       "      <td>1.43</td>\n",
       "      <td>0.16</td>\n",
       "      <td>0.16</td>\n",
       "      <td>0.02</td>\n",
       "      <td>0</td>\n",
       "      <td>0</td>\n",
       "    </tr>\n",
       "    <tr>\n",
       "      <th>2</th>\n",
       "      <td>103</td>\n",
       "      <td>82</td>\n",
       "      <td>1512</td>\n",
       "      <td>32.2</td>\n",
       "      <td>142.4</td>\n",
       "      <td>1</td>\n",
       "      <td>4.00</td>\n",
       "      <td>0.29</td>\n",
       "      <td>0.01</td>\n",
       "      <td>0.00</td>\n",
       "      <td>0.29</td>\n",
       "      <td>0.02</td>\n",
       "      <td>0</td>\n",
       "      <td>0</td>\n",
       "    </tr>\n",
       "    <tr>\n",
       "      <th>3</th>\n",
       "      <td>104</td>\n",
       "      <td>2</td>\n",
       "      <td>8</td>\n",
       "      <td>8.0</td>\n",
       "      <td>88.9</td>\n",
       "      <td>4</td>\n",
       "      <td>7.66</td>\n",
       "      <td>0.04</td>\n",
       "      <td>2.00</td>\n",
       "      <td>0.25</td>\n",
       "      <td>0.30</td>\n",
       "      <td>0.02</td>\n",
       "      <td>0</td>\n",
       "      <td>0</td>\n",
       "    </tr>\n",
       "    <tr>\n",
       "      <th>4</th>\n",
       "      <td>105</td>\n",
       "      <td>32</td>\n",
       "      <td>952</td>\n",
       "      <td>32.8</td>\n",
       "      <td>136.4</td>\n",
       "      <td>0</td>\n",
       "      <td>0.00</td>\n",
       "      <td>0.28</td>\n",
       "      <td>0.00</td>\n",
       "      <td>0.00</td>\n",
       "      <td>0.28</td>\n",
       "      <td>0.02</td>\n",
       "      <td>1</td>\n",
       "      <td>0</td>\n",
       "    </tr>\n",
       "  </tbody>\n",
       "</table>\n",
       "</div>"
      ],
      "text/plain": [
       "   PLAYER ID  MATCHES  TOTAL RUN  BATTING AVG  Strike Rate  Wickets  ECONOMY  \\\n",
       "0        101      100       1667         21.9        140.3       84     7.29   \n",
       "1        102       21         27          0.0        112.5       30     8.70   \n",
       "2        103       82       1512         32.2        142.4        1     4.00   \n",
       "3        104        2          8          8.0         88.9        4     7.66   \n",
       "4        105       32        952         32.8        136.4        0     0.00   \n",
       "\n",
       "   IMPACT (batting)  wicket/match  impact bowling  Total impact  \\\n",
       "0              0.19          0.84            0.11          0.30   \n",
       "1              0.00          1.43            0.16          0.16   \n",
       "2              0.29          0.01            0.00          0.29   \n",
       "3              0.04          2.00            0.25          0.30   \n",
       "4              0.28          0.00            0.00          0.28   \n",
       "\n",
       "   Semi-probability  Target_key_player  Target_MVP  \n",
       "0              0.02                  0           1  \n",
       "1              0.02                  0           0  \n",
       "2              0.02                  0           0  \n",
       "3              0.02                  0           0  \n",
       "4              0.02                  1           0  "
      ]
     },
     "execution_count": 14,
     "metadata": {},
     "output_type": "execute_result"
    }
   ],
   "source": [
    "df1 = df.drop(['Key_Player', 'MVP',], axis=1)\n",
    "df1.head()\n"
   ]
  },
  {
   "attachments": {},
   "cell_type": "markdown",
   "metadata": {},
   "source": [
    "# Correcting the Imabalance In Dataset by SMOTE."
   ]
  },
  {
   "cell_type": "code",
   "execution_count": 15,
   "metadata": {},
   "outputs": [
    {
     "data": {
      "text/plain": [
       "0    164\n",
       "1     41\n",
       "Name: Target_MVP, dtype: int64"
      ]
     },
     "execution_count": 15,
     "metadata": {},
     "output_type": "execute_result"
    }
   ],
   "source": [
    "df1['Target_MVP'].value_counts()\n"
   ]
  },
  {
   "cell_type": "code",
   "execution_count": 16,
   "metadata": {},
   "outputs": [
    {
     "name": "stdout",
     "output_type": "stream",
     "text": [
      "Feature (X) Shape Before Balancing : (205, 13)\n",
      "Target_MVP (y) Shape Before Balancing : (205,)\n"
     ]
    }
   ],
   "source": [
    "X = df1.drop(['Target_MVP'], axis=1)\n",
    "y = df1['Target_MVP']\n",
    "\n",
    "print('Feature (X) Shape Before Balancing :', X.shape)\n",
    "print('Target_MVP (y) Shape Before Balancing :', y.shape)\n"
   ]
  },
  {
   "cell_type": "code",
   "execution_count": 17,
   "metadata": {},
   "outputs": [],
   "source": [
    "from imblearn.over_sampling import SMOTE\n",
    "sm = SMOTE(random_state=300)\n"
   ]
  },
  {
   "cell_type": "code",
   "execution_count": 18,
   "metadata": {},
   "outputs": [],
   "source": [
    "X, y = sm.fit_resample(X, y)\n"
   ]
  },
  {
   "cell_type": "code",
   "execution_count": 19,
   "metadata": {},
   "outputs": [
    {
     "name": "stdout",
     "output_type": "stream",
     "text": [
      "Feature (X) Shape After Balancing : (328, 13)\n",
      "Target_MVP (y) Shape After Balancing : (328,)\n"
     ]
    }
   ],
   "source": [
    "print('Feature (X) Shape After Balancing :', X.shape)\n",
    "print('Target_MVP (y) Shape After Balancing :', y.shape)\n"
   ]
  },
  {
   "attachments": {},
   "cell_type": "markdown",
   "metadata": {},
   "source": [
    "# Splitting the Data"
   ]
  },
  {
   "cell_type": "code",
   "execution_count": 20,
   "metadata": {},
   "outputs": [],
   "source": [
    "x = df1.drop(columns=['Target_MVP', 'PLAYER ID'])\n",
    "y = df1['Target_MVP']\n"
   ]
  },
  {
   "cell_type": "code",
   "execution_count": 21,
   "metadata": {},
   "outputs": [
    {
     "data": {
      "text/plain": [
       "MATCHES               143.00\n",
       "TOTAL RUN            3794.00\n",
       "BATTING AVG            57.38\n",
       "Strike Rate           225.00\n",
       "Wickets               125.00\n",
       "ECONOMY                21.00\n",
       "IMPACT (batting)        0.49\n",
       "wicket/match            2.25\n",
       "impact bowling          0.27\n",
       "Total impact            0.58\n",
       "Semi-probability        0.50\n",
       "Target_key_player       1.00\n",
       "dtype: float64"
      ]
     },
     "execution_count": 21,
     "metadata": {},
     "output_type": "execute_result"
    }
   ],
   "source": [
    "x.max()\n"
   ]
  },
  {
   "cell_type": "code",
   "execution_count": 22,
   "metadata": {},
   "outputs": [
    {
     "data": {
      "text/plain": [
       "MATCHES              0.0\n",
       "TOTAL RUN            0.0\n",
       "BATTING AVG          0.0\n",
       "Strike Rate          0.0\n",
       "Wickets              0.0\n",
       "ECONOMY              0.0\n",
       "IMPACT (batting)     0.0\n",
       "wicket/match         0.0\n",
       "impact bowling       0.0\n",
       "Total impact         0.0\n",
       "Semi-probability     0.0\n",
       "Target_key_player    0.0\n",
       "dtype: float64"
      ]
     },
     "execution_count": 22,
     "metadata": {},
     "output_type": "execute_result"
    }
   ],
   "source": [
    "x.min()\n"
   ]
  },
  {
   "cell_type": "code",
   "execution_count": 23,
   "metadata": {},
   "outputs": [],
   "source": [
    "from sklearn.model_selection import train_test_split \n",
    "x_train,x_test,y_train,y_test = train_test_split(x,y,test_size=0.2,random_state=30)"
   ]
  },
  {
   "attachments": {},
   "cell_type": "markdown",
   "metadata": {},
   "source": [
    "# Scalling the data"
   ]
  },
  {
   "cell_type": "code",
   "execution_count": 24,
   "metadata": {},
   "outputs": [
    {
     "data": {
      "text/plain": [
       "array([9.61538462e-03, 4.45037828e-04, 1.74276751e-02, 6.81059729e-03,\n",
       "       8.19672131e-03, 1.00000000e-01, 2.04081633e+00, 4.44444444e-01,\n",
       "       3.70370370e+00, 2.32558140e+00, 2.00000000e+00, 1.00000000e+00])"
      ]
     },
     "execution_count": 24,
     "metadata": {},
     "output_type": "execute_result"
    }
   ],
   "source": [
    "from sklearn.preprocessing import MinMaxScaler\n",
    "scaler = MinMaxScaler()\n",
    "\n",
    "x_train_scaled = scaler.fit_transform(x_train)\n",
    "x_test_scaled = scaler.fit_transform(x_test)\n",
    "scaler.scale_\n"
   ]
  },
  {
   "attachments": {},
   "cell_type": "markdown",
   "metadata": {},
   "source": [
    "As all data are in array form. We will use pandas dataframe to convert them into dataframe.\n"
   ]
  },
  {
   "cell_type": "code",
   "execution_count": 25,
   "metadata": {},
   "outputs": [
    {
     "data": {
      "text/html": [
       "<div>\n",
       "<style scoped>\n",
       "    .dataframe tbody tr th:only-of-type {\n",
       "        vertical-align: middle;\n",
       "    }\n",
       "\n",
       "    .dataframe tbody tr th {\n",
       "        vertical-align: top;\n",
       "    }\n",
       "\n",
       "    .dataframe thead th {\n",
       "        text-align: right;\n",
       "    }\n",
       "</style>\n",
       "<table border=\"1\" class=\"dataframe\">\n",
       "  <thead>\n",
       "    <tr style=\"text-align: right;\">\n",
       "      <th></th>\n",
       "      <th>MATCHES</th>\n",
       "      <th>TOTAL RUN</th>\n",
       "      <th>BATTING AVG</th>\n",
       "      <th>Strike Rate</th>\n",
       "      <th>Wickets</th>\n",
       "      <th>ECONOMY</th>\n",
       "      <th>IMPACT (batting)</th>\n",
       "      <th>wicket/match</th>\n",
       "      <th>impact bowling</th>\n",
       "      <th>Total impact</th>\n",
       "      <th>Semi-probability</th>\n",
       "      <th>Target_key_player</th>\n",
       "    </tr>\n",
       "  </thead>\n",
       "  <tbody>\n",
       "    <tr>\n",
       "      <th>0</th>\n",
       "      <td>0.146853</td>\n",
       "      <td>0.007116</td>\n",
       "      <td>0.000000</td>\n",
       "      <td>0.500000</td>\n",
       "      <td>0.240</td>\n",
       "      <td>0.414286</td>\n",
       "      <td>0.000000</td>\n",
       "      <td>0.715</td>\n",
       "      <td>0.615385</td>\n",
       "      <td>0.275862</td>\n",
       "      <td>0.04</td>\n",
       "      <td>0.0</td>\n",
       "    </tr>\n",
       "    <tr>\n",
       "      <th>1</th>\n",
       "      <td>0.006993</td>\n",
       "      <td>0.003163</td>\n",
       "      <td>0.227273</td>\n",
       "      <td>0.311111</td>\n",
       "      <td>0.008</td>\n",
       "      <td>0.452381</td>\n",
       "      <td>0.111111</td>\n",
       "      <td>0.500</td>\n",
       "      <td>0.384615</td>\n",
       "      <td>0.258621</td>\n",
       "      <td>0.50</td>\n",
       "      <td>0.0</td>\n",
       "    </tr>\n",
       "    <tr>\n",
       "      <th>2</th>\n",
       "      <td>0.314685</td>\n",
       "      <td>0.008434</td>\n",
       "      <td>0.121212</td>\n",
       "      <td>0.309156</td>\n",
       "      <td>0.408</td>\n",
       "      <td>0.346190</td>\n",
       "      <td>0.066667</td>\n",
       "      <td>0.565</td>\n",
       "      <td>0.576923</td>\n",
       "      <td>0.310345</td>\n",
       "      <td>0.04</td>\n",
       "      <td>0.0</td>\n",
       "    </tr>\n",
       "    <tr>\n",
       "      <th>3</th>\n",
       "      <td>0.160839</td>\n",
       "      <td>0.020295</td>\n",
       "      <td>0.242992</td>\n",
       "      <td>0.600356</td>\n",
       "      <td>0.208</td>\n",
       "      <td>0.438095</td>\n",
       "      <td>0.244444</td>\n",
       "      <td>0.565</td>\n",
       "      <td>0.461538</td>\n",
       "      <td>0.396552</td>\n",
       "      <td>1.00</td>\n",
       "      <td>0.0</td>\n",
       "    </tr>\n",
       "    <tr>\n",
       "      <th>4</th>\n",
       "      <td>0.237762</td>\n",
       "      <td>0.142066</td>\n",
       "      <td>0.509470</td>\n",
       "      <td>0.558222</td>\n",
       "      <td>0.016</td>\n",
       "      <td>0.337143</td>\n",
       "      <td>0.466667</td>\n",
       "      <td>0.030</td>\n",
       "      <td>0.038462</td>\n",
       "      <td>0.379310</td>\n",
       "      <td>0.60</td>\n",
       "      <td>0.0</td>\n",
       "    </tr>\n",
       "  </tbody>\n",
       "</table>\n",
       "</div>"
      ],
      "text/plain": [
       "    MATCHES  TOTAL RUN  BATTING AVG  Strike Rate  Wickets   ECONOMY  \\\n",
       "0  0.146853   0.007116     0.000000     0.500000    0.240  0.414286   \n",
       "1  0.006993   0.003163     0.227273     0.311111    0.008  0.452381   \n",
       "2  0.314685   0.008434     0.121212     0.309156    0.408  0.346190   \n",
       "3  0.160839   0.020295     0.242992     0.600356    0.208  0.438095   \n",
       "4  0.237762   0.142066     0.509470     0.558222    0.016  0.337143   \n",
       "\n",
       "   IMPACT (batting)  wicket/match  impact bowling  Total impact  \\\n",
       "0          0.000000         0.715        0.615385      0.275862   \n",
       "1          0.111111         0.500        0.384615      0.258621   \n",
       "2          0.066667         0.565        0.576923      0.310345   \n",
       "3          0.244444         0.565        0.461538      0.396552   \n",
       "4          0.466667         0.030        0.038462      0.379310   \n",
       "\n",
       "   Semi-probability  Target_key_player  \n",
       "0              0.04                0.0  \n",
       "1              0.50                0.0  \n",
       "2              0.04                0.0  \n",
       "3              1.00                0.0  \n",
       "4              0.60                0.0  "
      ]
     },
     "execution_count": 25,
     "metadata": {},
     "output_type": "execute_result"
    }
   ],
   "source": [
    "x_train_scaled = pd.DataFrame(x_train_scaled, columns=x_train.columns)\n",
    "x_test_scaled = pd.DataFrame(x_test_scaled, columns=x_test.columns)\n",
    "x_train_scaled.head()\n"
   ]
  },
  {
   "attachments": {},
   "cell_type": "markdown",
   "metadata": {},
   "source": [
    "# 1. Logistic Regression"
   ]
  },
  {
   "cell_type": "code",
   "execution_count": 26,
   "metadata": {},
   "outputs": [
    {
     "data": {
      "text/html": [
       "<style>#sk-container-id-1 {color: black;background-color: white;}#sk-container-id-1 pre{padding: 0;}#sk-container-id-1 div.sk-toggleable {background-color: white;}#sk-container-id-1 label.sk-toggleable__label {cursor: pointer;display: block;width: 100%;margin-bottom: 0;padding: 0.3em;box-sizing: border-box;text-align: center;}#sk-container-id-1 label.sk-toggleable__label-arrow:before {content: \"▸\";float: left;margin-right: 0.25em;color: #696969;}#sk-container-id-1 label.sk-toggleable__label-arrow:hover:before {color: black;}#sk-container-id-1 div.sk-estimator:hover label.sk-toggleable__label-arrow:before {color: black;}#sk-container-id-1 div.sk-toggleable__content {max-height: 0;max-width: 0;overflow: hidden;text-align: left;background-color: #f0f8ff;}#sk-container-id-1 div.sk-toggleable__content pre {margin: 0.2em;color: black;border-radius: 0.25em;background-color: #f0f8ff;}#sk-container-id-1 input.sk-toggleable__control:checked~div.sk-toggleable__content {max-height: 200px;max-width: 100%;overflow: auto;}#sk-container-id-1 input.sk-toggleable__control:checked~label.sk-toggleable__label-arrow:before {content: \"▾\";}#sk-container-id-1 div.sk-estimator input.sk-toggleable__control:checked~label.sk-toggleable__label {background-color: #d4ebff;}#sk-container-id-1 div.sk-label input.sk-toggleable__control:checked~label.sk-toggleable__label {background-color: #d4ebff;}#sk-container-id-1 input.sk-hidden--visually {border: 0;clip: rect(1px 1px 1px 1px);clip: rect(1px, 1px, 1px, 1px);height: 1px;margin: -1px;overflow: hidden;padding: 0;position: absolute;width: 1px;}#sk-container-id-1 div.sk-estimator {font-family: monospace;background-color: #f0f8ff;border: 1px dotted black;border-radius: 0.25em;box-sizing: border-box;margin-bottom: 0.5em;}#sk-container-id-1 div.sk-estimator:hover {background-color: #d4ebff;}#sk-container-id-1 div.sk-parallel-item::after {content: \"\";width: 100%;border-bottom: 1px solid gray;flex-grow: 1;}#sk-container-id-1 div.sk-label:hover label.sk-toggleable__label {background-color: #d4ebff;}#sk-container-id-1 div.sk-serial::before {content: \"\";position: absolute;border-left: 1px solid gray;box-sizing: border-box;top: 0;bottom: 0;left: 50%;z-index: 0;}#sk-container-id-1 div.sk-serial {display: flex;flex-direction: column;align-items: center;background-color: white;padding-right: 0.2em;padding-left: 0.2em;position: relative;}#sk-container-id-1 div.sk-item {position: relative;z-index: 1;}#sk-container-id-1 div.sk-parallel {display: flex;align-items: stretch;justify-content: center;background-color: white;position: relative;}#sk-container-id-1 div.sk-item::before, #sk-container-id-1 div.sk-parallel-item::before {content: \"\";position: absolute;border-left: 1px solid gray;box-sizing: border-box;top: 0;bottom: 0;left: 50%;z-index: -1;}#sk-container-id-1 div.sk-parallel-item {display: flex;flex-direction: column;z-index: 1;position: relative;background-color: white;}#sk-container-id-1 div.sk-parallel-item:first-child::after {align-self: flex-end;width: 50%;}#sk-container-id-1 div.sk-parallel-item:last-child::after {align-self: flex-start;width: 50%;}#sk-container-id-1 div.sk-parallel-item:only-child::after {width: 0;}#sk-container-id-1 div.sk-dashed-wrapped {border: 1px dashed gray;margin: 0 0.4em 0.5em 0.4em;box-sizing: border-box;padding-bottom: 0.4em;background-color: white;}#sk-container-id-1 div.sk-label label {font-family: monospace;font-weight: bold;display: inline-block;line-height: 1.2em;}#sk-container-id-1 div.sk-label-container {text-align: center;}#sk-container-id-1 div.sk-container {/* jupyter's `normalize.less` sets `[hidden] { display: none; }` but bootstrap.min.css set `[hidden] { display: none !important; }` so we also need the `!important` here to be able to override the default hidden behavior on the sphinx rendered scikit-learn.org. See: https://github.com/scikit-learn/scikit-learn/issues/21755 */display: inline-block !important;position: relative;}#sk-container-id-1 div.sk-text-repr-fallback {display: none;}</style><div id=\"sk-container-id-1\" class=\"sk-top-container\"><div class=\"sk-text-repr-fallback\"><pre>LogisticRegression()</pre><b>In a Jupyter environment, please rerun this cell to show the HTML representation or trust the notebook. <br />On GitHub, the HTML representation is unable to render, please try loading this page with nbviewer.org.</b></div><div class=\"sk-container\" hidden><div class=\"sk-item\"><div class=\"sk-estimator sk-toggleable\"><input class=\"sk-toggleable__control sk-hidden--visually\" id=\"sk-estimator-id-1\" type=\"checkbox\" checked><label for=\"sk-estimator-id-1\" class=\"sk-toggleable__label sk-toggleable__label-arrow\">LogisticRegression</label><div class=\"sk-toggleable__content\"><pre>LogisticRegression()</pre></div></div></div></div></div>"
      ],
      "text/plain": [
       "LogisticRegression()"
      ]
     },
     "execution_count": 26,
     "metadata": {},
     "output_type": "execute_result"
    }
   ],
   "source": [
    "from sklearn.linear_model import LogisticRegression\n",
    "\n",
    "reg = LogisticRegression()\n",
    "reg.fit(x_train_scaled,y_train)"
   ]
  },
  {
   "cell_type": "code",
   "execution_count": 27,
   "metadata": {},
   "outputs": [],
   "source": [
    "y_pred_lr=reg.predict(x_test_scaled)"
   ]
  },
  {
   "attachments": {},
   "cell_type": "markdown",
   "metadata": {},
   "source": [
    "F1,Recall,Precision Score for Logistic Regression"
   ]
  },
  {
   "cell_type": "code",
   "execution_count": 28,
   "metadata": {},
   "outputs": [
    {
     "name": "stdout",
     "output_type": "stream",
     "text": [
      "Precision:  1.0\n",
      "Recall:  0.5\n",
      "f1_score:  0.6666666666666666\n",
      "[[ 5  5]\n",
      " [ 0 31]]\n",
      "Training Score:  93.90243902439023\n"
     ]
    }
   ],
   "source": [
    "from sklearn.metrics import precision_score, recall_score, f1_score, accuracy_score, confusion_matrix, r2_score\n",
    "\n",
    "print('Precision: ', precision_score(y_test, y_pred_lr))\n",
    "print('Recall: ', recall_score(y_test, y_pred_lr))\n",
    "print('f1_score: ', f1_score(y_test, y_pred_lr))\n",
    "print(confusion_matrix(y_test, y_pred_lr, labels=(1, 0)))\n",
    "print(\"Training Score: \", reg.score(x_train_scaled, y_train)*100)\n"
   ]
  },
  {
   "attachments": {},
   "cell_type": "markdown",
   "metadata": {},
   "source": [
    "Plotting Confusion Matrix"
   ]
  },
  {
   "cell_type": "code",
   "execution_count": 29,
   "metadata": {},
   "outputs": [],
   "source": [
    "import seaborn as sns\n",
    "sns.set(font_scale=1.5)\n",
    "\n",
    "\n",
    "def conf_matrix(y_true, y_preds):\n",
    "    fig, ax = plt.subplots(figsize=(5, 5))\n",
    "    ax = sns.heatmap(\n",
    "        confusion_matrix(y_true, y_preds, labels=(1, 0)),\n",
    "        annot=True,\n",
    "        cbar=False,\n",
    "        fmt='g'\n",
    "    )\n",
    "    plt.xlabel('Predicted Label')\n",
    "    plt.ylabel('True Label')\n"
   ]
  },
  {
   "cell_type": "code",
   "execution_count": 30,
   "metadata": {},
   "outputs": [
    {
     "data": {
      "image/png": "[encoded data removed]",
      "text/plain": [
       "<Figure size 500x500 with 1 Axes>"
      ]
     },
     "metadata": {},
     "output_type": "display_data"
    }
   ],
   "source": [
    "conf_matrix(y_test,y_pred_lr)"
   ]
  },
  {
   "attachments": {},
   "cell_type": "markdown",
   "metadata": {},
   "source": [
    "Accuracy of Logistic Regression"
   ]
  },
  {
   "cell_type": "code",
   "execution_count": 31,
   "metadata": {},
   "outputs": [
    {
     "data": {
      "text/plain": [
       "87.8048780487805"
      ]
     },
     "execution_count": 31,
     "metadata": {},
     "output_type": "execute_result"
    }
   ],
   "source": [
    "reg_acc = accuracy_score(y_test, y_pred_lr)*100\n",
    "reg_acc\n"
   ]
  },
  {
   "cell_type": "code",
   "execution_count": 32,
   "metadata": {},
   "outputs": [
    {
     "data": {
      "text/plain": [
       "93.90243902439023"
      ]
     },
     "execution_count": 32,
     "metadata": {},
     "output_type": "execute_result"
    }
   ],
   "source": [
    "y_predtrain_lr = reg.predict(x_train_scaled)\n",
    "reg_train_acc = accuracy_score(y_train, y_predtrain_lr)*100\n",
    "reg_train_acc\n"
   ]
  },
  {
   "cell_type": "code",
   "execution_count": 33,
   "metadata": {},
   "outputs": [
    {
     "name": "stdout",
     "output_type": "stream",
     "text": [
      "             Algorithm  Train_Accuracy  Test_Accuracy\n",
      "0  Logistic Regression       93.902439      87.804878\n",
      "<class 'pandas.core.frame.DataFrame'>\n"
     ]
    },
    {
     "data": {
      "text/html": [
       "<div>\n",
       "<style scoped>\n",
       "    .dataframe tbody tr th:only-of-type {\n",
       "        vertical-align: middle;\n",
       "    }\n",
       "\n",
       "    .dataframe tbody tr th {\n",
       "        vertical-align: top;\n",
       "    }\n",
       "\n",
       "    .dataframe thead th {\n",
       "        text-align: right;\n",
       "    }\n",
       "</style>\n",
       "<table border=\"1\" class=\"dataframe\">\n",
       "  <thead>\n",
       "    <tr style=\"text-align: right;\">\n",
       "      <th></th>\n",
       "      <th>Algorithm</th>\n",
       "      <th>Train_Accuracy</th>\n",
       "      <th>Test_Accuracy</th>\n",
       "    </tr>\n",
       "  </thead>\n",
       "  <tbody>\n",
       "    <tr>\n",
       "      <th>0</th>\n",
       "      <td>Logistic Regression</td>\n",
       "      <td>93.902439</td>\n",
       "      <td>87.804878</td>\n",
       "    </tr>\n",
       "  </tbody>\n",
       "</table>\n",
       "</div>"
      ],
      "text/plain": [
       "             Algorithm  Train_Accuracy  Test_Accuracy\n",
       "0  Logistic Regression       93.902439      87.804878"
      ]
     },
     "execution_count": 33,
     "metadata": {},
     "output_type": "execute_result"
    }
   ],
   "source": [
    "tempResults = pd.DataFrame({'Algorithm':['Logistic Regression'],'Train_Accuracy':[reg_train_acc],'Test_Accuracy':[reg_acc]})\n",
    "print(tempResults)\n",
    "\n",
    "results= pd.DataFrame()\n",
    "print(type(results))\n",
    "\n",
    "results = pd.concat( [results, tempResults] )\n",
    "\n",
    "results = results[['Algorithm', 'Train_Accuracy', 'Test_Accuracy']]\n",
    "results"
   ]
  },
  {
   "attachments": {},
   "cell_type": "markdown",
   "metadata": {},
   "source": [
    "AUC Curve"
   ]
  },
  {
   "cell_type": "code",
   "execution_count": 34,
   "metadata": {},
   "outputs": [
    {
     "data": {
      "image/png": "[encoded data removed]",
      "text/plain": [
       "<Figure size 1200x800 with 1 Axes>"
      ]
     },
     "metadata": {},
     "output_type": "display_data"
    }
   ],
   "source": [
    "from sklearn import metrics\n",
    "\n",
    "reg = LogisticRegression()\n",
    "reg.fit(x_train_scaled,y_train) \n",
    "y_pred_lr=reg.predict(x_test_scaled)\n",
    "\n",
    "auc = metrics.roc_auc_score(y_test, y_pred_lr)\n",
    "\n",
    "fpr, tpr, _ = metrics.roc_curve(y_test,  y_pred_lr)\n",
    "plt.figure(figsize=(12,8))\n",
    "plt.plot(fpr,tpr,label=\"AUC=\"+str(auc))\n",
    "plt.ylabel('True Positive Rate')\n",
    "plt.xlabel('False Positive Rate')\n",
    "plt.legend(loc=4)\n",
    "plt.show()"
   ]
  },
  {
   "attachments": {},
   "cell_type": "markdown",
   "metadata": {},
   "source": [
    "# 2. Decision Tree Classifier"
   ]
  },
  {
   "cell_type": "code",
   "execution_count": 35,
   "metadata": {},
   "outputs": [
    {
     "data": {
      "text/html": [
       "<style>#sk-container-id-2 {color: black;background-color: white;}#sk-container-id-2 pre{padding: 0;}#sk-container-id-2 div.sk-toggleable {background-color: white;}#sk-container-id-2 label.sk-toggleable__label {cursor: pointer;display: block;width: 100%;margin-bottom: 0;padding: 0.3em;box-sizing: border-box;text-align: center;}#sk-container-id-2 label.sk-toggleable__label-arrow:before {content: \"▸\";float: left;margin-right: 0.25em;color: #696969;}#sk-container-id-2 label.sk-toggleable__label-arrow:hover:before {color: black;}#sk-container-id-2 div.sk-estimator:hover label.sk-toggleable__label-arrow:before {color: black;}#sk-container-id-2 div.sk-toggleable__content {max-height: 0;max-width: 0;overflow: hidden;text-align: left;background-color: #f0f8ff;}#sk-container-id-2 div.sk-toggleable__content pre {margin: 0.2em;color: black;border-radius: 0.25em;background-color: #f0f8ff;}#sk-container-id-2 input.sk-toggleable__control:checked~div.sk-toggleable__content {max-height: 200px;max-width: 100%;overflow: auto;}#sk-container-id-2 input.sk-toggleable__control:checked~label.sk-toggleable__label-arrow:before {content: \"▾\";}#sk-container-id-2 div.sk-estimator input.sk-toggleable__control:checked~label.sk-toggleable__label {background-color: #d4ebff;}#sk-container-id-2 div.sk-label input.sk-toggleable__control:checked~label.sk-toggleable__label {background-color: #d4ebff;}#sk-container-id-2 input.sk-hidden--visually {border: 0;clip: rect(1px 1px 1px 1px);clip: rect(1px, 1px, 1px, 1px);height: 1px;margin: -1px;overflow: hidden;padding: 0;position: absolute;width: 1px;}#sk-container-id-2 div.sk-estimator {font-family: monospace;background-color: #f0f8ff;border: 1px dotted black;border-radius: 0.25em;box-sizing: border-box;margin-bottom: 0.5em;}#sk-container-id-2 div.sk-estimator:hover {background-color: #d4ebff;}#sk-container-id-2 div.sk-parallel-item::after {content: \"\";width: 100%;border-bottom: 1px solid gray;flex-grow: 1;}#sk-container-id-2 div.sk-label:hover label.sk-toggleable__label {background-color: #d4ebff;}#sk-container-id-2 div.sk-serial::before {content: \"\";position: absolute;border-left: 1px solid gray;box-sizing: border-box;top: 0;bottom: 0;left: 50%;z-index: 0;}#sk-container-id-2 div.sk-serial {display: flex;flex-direction: column;align-items: center;background-color: white;padding-right: 0.2em;padding-left: 0.2em;position: relative;}#sk-container-id-2 div.sk-item {position: relative;z-index: 1;}#sk-container-id-2 div.sk-parallel {display: flex;align-items: stretch;justify-content: center;background-color: white;position: relative;}#sk-container-id-2 div.sk-item::before, #sk-container-id-2 div.sk-parallel-item::before {content: \"\";position: absolute;border-left: 1px solid gray;box-sizing: border-box;top: 0;bottom: 0;left: 50%;z-index: -1;}#sk-container-id-2 div.sk-parallel-item {display: flex;flex-direction: column;z-index: 1;position: relative;background-color: white;}#sk-container-id-2 div.sk-parallel-item:first-child::after {align-self: flex-end;width: 50%;}#sk-container-id-2 div.sk-parallel-item:last-child::after {align-self: flex-start;width: 50%;}#sk-container-id-2 div.sk-parallel-item:only-child::after {width: 0;}#sk-container-id-2 div.sk-dashed-wrapped {border: 1px dashed gray;margin: 0 0.4em 0.5em 0.4em;box-sizing: border-box;padding-bottom: 0.4em;background-color: white;}#sk-container-id-2 div.sk-label label {font-family: monospace;font-weight: bold;display: inline-block;line-height: 1.2em;}#sk-container-id-2 div.sk-label-container {text-align: center;}#sk-container-id-2 div.sk-container {/* jupyter's `normalize.less` sets `[hidden] { display: none; }` but bootstrap.min.css set `[hidden] { display: none !important; }` so we also need the `!important` here to be able to override the default hidden behavior on the sphinx rendered scikit-learn.org. See: https://github.com/scikit-learn/scikit-learn/issues/21755 */display: inline-block !important;position: relative;}#sk-container-id-2 div.sk-text-repr-fallback {display: none;}</style><div id=\"sk-container-id-2\" class=\"sk-top-container\"><div class=\"sk-text-repr-fallback\"><pre>DecisionTreeClassifier(max_depth=5, random_state=10)</pre><b>In a Jupyter environment, please rerun this cell to show the HTML representation or trust the notebook. <br />On GitHub, the HTML representation is unable to render, please try loading this page with nbviewer.org.</b></div><div class=\"sk-container\" hidden><div class=\"sk-item\"><div class=\"sk-estimator sk-toggleable\"><input class=\"sk-toggleable__control sk-hidden--visually\" id=\"sk-estimator-id-2\" type=\"checkbox\" checked><label for=\"sk-estimator-id-2\" class=\"sk-toggleable__label sk-toggleable__label-arrow\">DecisionTreeClassifier</label><div class=\"sk-toggleable__content\"><pre>DecisionTreeClassifier(max_depth=5, random_state=10)</pre></div></div></div></div></div>"
      ],
      "text/plain": [
       "DecisionTreeClassifier(max_depth=5, random_state=10)"
      ]
     },
     "execution_count": 35,
     "metadata": {},
     "output_type": "execute_result"
    }
   ],
   "source": [
    "from sklearn.tree import DecisionTreeClassifier\n",
    "dtree = DecisionTreeClassifier(max_depth=5, random_state=10)\n",
    "\n",
    "dtree.fit(x_train_scaled, y_train)"
   ]
  },
  {
   "cell_type": "code",
   "execution_count": 36,
   "metadata": {},
   "outputs": [],
   "source": [
    "y_pred_dt=dtree.predict(x_test_scaled)"
   ]
  },
  {
   "attachments": {},
   "cell_type": "markdown",
   "metadata": {},
   "source": [
    "F1,Recall,Precision Score for Logistic Regression"
   ]
  },
  {
   "cell_type": "code",
   "execution_count": 37,
   "metadata": {},
   "outputs": [
    {
     "name": "stdout",
     "output_type": "stream",
     "text": [
      "Precision:  0.5\n",
      "Recall:  0.4\n",
      "f1_score:  0.4444444444444445\n",
      "[[ 4  6]\n",
      " [ 4 27]]\n",
      "Training Score:  98.78048780487805\n"
     ]
    }
   ],
   "source": [
    "print('Precision: ',precision_score(y_test, y_pred_dt))\n",
    "print('Recall: ',recall_score(y_test, y_pred_dt))\n",
    "print('f1_score: ',f1_score(y_test,y_pred_dt))\n",
    "print(confusion_matrix(y_test,y_pred_dt, labels=(1,0)))\n",
    "print(\"Training Score: \",dtree.score(x_train_scaled,y_train)*100)"
   ]
  },
  {
   "attachments": {},
   "cell_type": "markdown",
   "metadata": {},
   "source": [
    "Confusion Matrix"
   ]
  },
  {
   "cell_type": "code",
   "execution_count": 38,
   "metadata": {},
   "outputs": [
    {
     "data": {
      "image/png": "[encoded data removed]",
      "text/plain": [
       "<Figure size 500x500 with 1 Axes>"
      ]
     },
     "metadata": {},
     "output_type": "display_data"
    }
   ],
   "source": [
    "conf_matrix(y_test,y_pred_dt)"
   ]
  },
  {
   "attachments": {},
   "cell_type": "markdown",
   "metadata": {},
   "source": [
    "Accuracy of Decision tree."
   ]
  },
  {
   "cell_type": "code",
   "execution_count": 39,
   "metadata": {},
   "outputs": [
    {
     "data": {
      "text/plain": [
       "75.60975609756098"
      ]
     },
     "execution_count": 39,
     "metadata": {},
     "output_type": "execute_result"
    }
   ],
   "source": [
    "dt_acc= accuracy_score(y_test,y_pred_dt)*100\n",
    "dt_acc"
   ]
  },
  {
   "cell_type": "code",
   "execution_count": 40,
   "metadata": {},
   "outputs": [
    {
     "data": {
      "text/plain": [
       "98.78048780487805"
      ]
     },
     "execution_count": 40,
     "metadata": {},
     "output_type": "execute_result"
    }
   ],
   "source": [
    "y_predtrain_lr = dtree.predict(x_train_scaled)\n",
    "dt_train_acc = accuracy_score(y_train, y_predtrain_lr)*100\n",
    "dt_train_acc"
   ]
  },
  {
   "cell_type": "code",
   "execution_count": 41,
   "metadata": {},
   "outputs": [
    {
     "name": "stdout",
     "output_type": "stream",
     "text": [
      "                Algorithm  Train_Accuracy  Test_Accuracy\n",
      "0  DecisionTreeClassifier       98.780488      75.609756\n",
      "<class 'pandas.core.frame.DataFrame'>\n"
     ]
    },
    {
     "data": {
      "text/html": [
       "<div>\n",
       "<style scoped>\n",
       "    .dataframe tbody tr th:only-of-type {\n",
       "        vertical-align: middle;\n",
       "    }\n",
       "\n",
       "    .dataframe tbody tr th {\n",
       "        vertical-align: top;\n",
       "    }\n",
       "\n",
       "    .dataframe thead th {\n",
       "        text-align: right;\n",
       "    }\n",
       "</style>\n",
       "<table border=\"1\" class=\"dataframe\">\n",
       "  <thead>\n",
       "    <tr style=\"text-align: right;\">\n",
       "      <th></th>\n",
       "      <th>Algorithm</th>\n",
       "      <th>Train_Accuracy</th>\n",
       "      <th>Test_Accuracy</th>\n",
       "    </tr>\n",
       "  </thead>\n",
       "  <tbody>\n",
       "    <tr>\n",
       "      <th>0</th>\n",
       "      <td>DecisionTreeClassifier</td>\n",
       "      <td>98.780488</td>\n",
       "      <td>75.609756</td>\n",
       "    </tr>\n",
       "  </tbody>\n",
       "</table>\n",
       "</div>"
      ],
      "text/plain": [
       "                Algorithm  Train_Accuracy  Test_Accuracy\n",
       "0  DecisionTreeClassifier       98.780488      75.609756"
      ]
     },
     "execution_count": 41,
     "metadata": {},
     "output_type": "execute_result"
    }
   ],
   "source": [
    "tempResults = pd.DataFrame({'Algorithm':['DecisionTreeClassifier'],'Train_Accuracy':[dt_train_acc],'Test_Accuracy':[dt_acc]})\n",
    "print(tempResults)\n",
    "\n",
    "results= pd.DataFrame()\n",
    "print(type(results))\n",
    "\n",
    "results = pd.concat( [results, tempResults] )\n",
    "\n",
    "results = results[['Algorithm', 'Train_Accuracy', 'Test_Accuracy']]\n",
    "results"
   ]
  },
  {
   "attachments": {},
   "cell_type": "markdown",
   "metadata": {},
   "source": [
    "AUC Curve for Decision Tree"
   ]
  },
  {
   "cell_type": "code",
   "execution_count": 42,
   "metadata": {},
   "outputs": [
    {
     "data": {
      "image/png": "[encoded data removed]",
      "text/plain": [
       "<Figure size 1200x800 with 1 Axes>"
      ]
     },
     "metadata": {},
     "output_type": "display_data"
    }
   ],
   "source": [
    "from sklearn.tree import DecisionTreeClassifier\n",
    "dtree = DecisionTreeClassifier(max_depth=5, random_state=10)\n",
    "dtree.fit(x_train_scaled,y_train)\n",
    "\n",
    "y_pred_dt=dtree.predict(x_test_scaled)\n",
    "\n",
    "auc = metrics.roc_auc_score(y_test, y_pred_dt)\n",
    "\n",
    "fpr, tpr, _ = metrics.roc_curve(y_test,  y_pred_dt)\n",
    "\n",
    "plt.figure(figsize=(12,8))\n",
    "plt.plot(fpr,tpr,label=\"AUC=\"+str(auc))\n",
    "plt.ylabel('True Positive Rate')\n",
    "plt.xlabel('False Positive Rate')\n",
    "plt.legend(loc=4)\n",
    "plt.show()"
   ]
  },
  {
   "attachments": {},
   "cell_type": "markdown",
   "metadata": {},
   "source": [
    "# 3. K-Near-Neighbour Classifier"
   ]
  },
  {
   "cell_type": "code",
   "execution_count": 43,
   "metadata": {},
   "outputs": [
    {
     "data": {
      "text/html": [
       "<style>#sk-container-id-3 {color: black;background-color: white;}#sk-container-id-3 pre{padding: 0;}#sk-container-id-3 div.sk-toggleable {background-color: white;}#sk-container-id-3 label.sk-toggleable__label {cursor: pointer;display: block;width: 100%;margin-bottom: 0;padding: 0.3em;box-sizing: border-box;text-align: center;}#sk-container-id-3 label.sk-toggleable__label-arrow:before {content: \"▸\";float: left;margin-right: 0.25em;color: #696969;}#sk-container-id-3 label.sk-toggleable__label-arrow:hover:before {color: black;}#sk-container-id-3 div.sk-estimator:hover label.sk-toggleable__label-arrow:before {color: black;}#sk-container-id-3 div.sk-toggleable__content {max-height: 0;max-width: 0;overflow: hidden;text-align: left;background-color: #f0f8ff;}#sk-container-id-3 div.sk-toggleable__content pre {margin: 0.2em;color: black;border-radius: 0.25em;background-color: #f0f8ff;}#sk-container-id-3 input.sk-toggleable__control:checked~div.sk-toggleable__content {max-height: 200px;max-width: 100%;overflow: auto;}#sk-container-id-3 input.sk-toggleable__control:checked~label.sk-toggleable__label-arrow:before {content: \"▾\";}#sk-container-id-3 div.sk-estimator input.sk-toggleable__control:checked~label.sk-toggleable__label {background-color: #d4ebff;}#sk-container-id-3 div.sk-label input.sk-toggleable__control:checked~label.sk-toggleable__label {background-color: #d4ebff;}#sk-container-id-3 input.sk-hidden--visually {border: 0;clip: rect(1px 1px 1px 1px);clip: rect(1px, 1px, 1px, 1px);height: 1px;margin: -1px;overflow: hidden;padding: 0;position: absolute;width: 1px;}#sk-container-id-3 div.sk-estimator {font-family: monospace;background-color: #f0f8ff;border: 1px dotted black;border-radius: 0.25em;box-sizing: border-box;margin-bottom: 0.5em;}#sk-container-id-3 div.sk-estimator:hover {background-color: #d4ebff;}#sk-container-id-3 div.sk-parallel-item::after {content: \"\";width: 100%;border-bottom: 1px solid gray;flex-grow: 1;}#sk-container-id-3 div.sk-label:hover label.sk-toggleable__label {background-color: #d4ebff;}#sk-container-id-3 div.sk-serial::before {content: \"\";position: absolute;border-left: 1px solid gray;box-sizing: border-box;top: 0;bottom: 0;left: 50%;z-index: 0;}#sk-container-id-3 div.sk-serial {display: flex;flex-direction: column;align-items: center;background-color: white;padding-right: 0.2em;padding-left: 0.2em;position: relative;}#sk-container-id-3 div.sk-item {position: relative;z-index: 1;}#sk-container-id-3 div.sk-parallel {display: flex;align-items: stretch;justify-content: center;background-color: white;position: relative;}#sk-container-id-3 div.sk-item::before, #sk-container-id-3 div.sk-parallel-item::before {content: \"\";position: absolute;border-left: 1px solid gray;box-sizing: border-box;top: 0;bottom: 0;left: 50%;z-index: -1;}#sk-container-id-3 div.sk-parallel-item {display: flex;flex-direction: column;z-index: 1;position: relative;background-color: white;}#sk-container-id-3 div.sk-parallel-item:first-child::after {align-self: flex-end;width: 50%;}#sk-container-id-3 div.sk-parallel-item:last-child::after {align-self: flex-start;width: 50%;}#sk-container-id-3 div.sk-parallel-item:only-child::after {width: 0;}#sk-container-id-3 div.sk-dashed-wrapped {border: 1px dashed gray;margin: 0 0.4em 0.5em 0.4em;box-sizing: border-box;padding-bottom: 0.4em;background-color: white;}#sk-container-id-3 div.sk-label label {font-family: monospace;font-weight: bold;display: inline-block;line-height: 1.2em;}#sk-container-id-3 div.sk-label-container {text-align: center;}#sk-container-id-3 div.sk-container {/* jupyter's `normalize.less` sets `[hidden] { display: none; }` but bootstrap.min.css set `[hidden] { display: none !important; }` so we also need the `!important` here to be able to override the default hidden behavior on the sphinx rendered scikit-learn.org. See: https://github.com/scikit-learn/scikit-learn/issues/21755 */display: inline-block !important;position: relative;}#sk-container-id-3 div.sk-text-repr-fallback {display: none;}</style><div id=\"sk-container-id-3\" class=\"sk-top-container\"><div class=\"sk-text-repr-fallback\"><pre>KNeighborsClassifier()</pre><b>In a Jupyter environment, please rerun this cell to show the HTML representation or trust the notebook. <br />On GitHub, the HTML representation is unable to render, please try loading this page with nbviewer.org.</b></div><div class=\"sk-container\" hidden><div class=\"sk-item\"><div class=\"sk-estimator sk-toggleable\"><input class=\"sk-toggleable__control sk-hidden--visually\" id=\"sk-estimator-id-3\" type=\"checkbox\" checked><label for=\"sk-estimator-id-3\" class=\"sk-toggleable__label sk-toggleable__label-arrow\">KNeighborsClassifier</label><div class=\"sk-toggleable__content\"><pre>KNeighborsClassifier()</pre></div></div></div></div></div>"
      ],
      "text/plain": [
       "KNeighborsClassifier()"
      ]
     },
     "execution_count": 43,
     "metadata": {},
     "output_type": "execute_result"
    }
   ],
   "source": [
    "from sklearn.neighbors import KNeighborsClassifier\n",
    "\n",
    "knn = KNeighborsClassifier(n_neighbors=5)\n",
    "knn.fit(x_train_scaled, y_train)\n"
   ]
  },
  {
   "cell_type": "code",
   "execution_count": 44,
   "metadata": {},
   "outputs": [],
   "source": [
    "y_pred_knn=knn.predict(x_test_scaled)"
   ]
  },
  {
   "attachments": {},
   "cell_type": "markdown",
   "metadata": {},
   "source": [
    "F1,Recall,Precision scores"
   ]
  },
  {
   "cell_type": "code",
   "execution_count": 45,
   "metadata": {},
   "outputs": [
    {
     "name": "stdout",
     "output_type": "stream",
     "text": [
      "Precision:  1.0\n",
      "Recall:  0.6\n",
      "f1_score:  0.7499999999999999\n",
      "[[ 6  4]\n",
      " [ 0 31]]\n",
      "Training Score:  94.51219512195121\n"
     ]
    }
   ],
   "source": [
    "from sklearn.metrics import precision_score, recall_score, f1_score, accuracy_score, confusion_matrix, r2_score\n",
    "\n",
    "print('Precision: ',precision_score(y_test, y_pred_knn))\n",
    "print('Recall: ',recall_score(y_test, y_pred_knn))\n",
    "print('f1_score: ',f1_score(y_test,y_pred_knn))\n",
    "print(confusion_matrix(y_test, y_pred_knn, labels=(1,0)))\n",
    "print(\"Training Score: \",knn.score(x_train_scaled, y_train)*100)"
   ]
  },
  {
   "attachments": {},
   "cell_type": "markdown",
   "metadata": {},
   "source": [
    "Confusion Matrix\n"
   ]
  },
  {
   "cell_type": "code",
   "execution_count": 46,
   "metadata": {},
   "outputs": [
    {
     "data": {
      "image/png": "[encoded data removed]",
      "text/plain": [
       "<Figure size 500x500 with 1 Axes>"
      ]
     },
     "metadata": {},
     "output_type": "display_data"
    }
   ],
   "source": [
    "conf_matrix(y_test,y_pred_knn)"
   ]
  },
  {
   "attachments": {},
   "cell_type": "markdown",
   "metadata": {},
   "source": [
    "# Accuracy of KNN model."
   ]
  },
  {
   "cell_type": "code",
   "execution_count": 47,
   "metadata": {},
   "outputs": [
    {
     "data": {
      "text/plain": [
       "90.2439024390244"
      ]
     },
     "execution_count": 47,
     "metadata": {},
     "output_type": "execute_result"
    }
   ],
   "source": [
    "knn_acc = accuracy_score(y_test, y_pred_knn)*100\n",
    "knn_acc\n"
   ]
  },
  {
   "cell_type": "code",
   "execution_count": 48,
   "metadata": {},
   "outputs": [
    {
     "data": {
      "text/plain": [
       "94.51219512195121"
      ]
     },
     "execution_count": 48,
     "metadata": {},
     "output_type": "execute_result"
    }
   ],
   "source": [
    "y_predtrain_lr = knn.predict(x_train_scaled)\n",
    "knn_train_acc = accuracy_score(y_train, y_predtrain_lr)*100\n",
    "knn_train_acc\n"
   ]
  },
  {
   "cell_type": "code",
   "execution_count": 49,
   "metadata": {},
   "outputs": [
    {
     "name": "stdout",
     "output_type": "stream",
     "text": [
      "              Algorithm  Train_Accuracy  Test_Accuracy\n",
      "0  KNeighborsClassifier       94.512195      90.243902\n",
      "<class 'pandas.core.frame.DataFrame'>\n"
     ]
    },
    {
     "data": {
      "text/html": [
       "<div>\n",
       "<style scoped>\n",
       "    .dataframe tbody tr th:only-of-type {\n",
       "        vertical-align: middle;\n",
       "    }\n",
       "\n",
       "    .dataframe tbody tr th {\n",
       "        vertical-align: top;\n",
       "    }\n",
       "\n",
       "    .dataframe thead th {\n",
       "        text-align: right;\n",
       "    }\n",
       "</style>\n",
       "<table border=\"1\" class=\"dataframe\">\n",
       "  <thead>\n",
       "    <tr style=\"text-align: right;\">\n",
       "      <th></th>\n",
       "      <th>Algorithm</th>\n",
       "      <th>Train_Accuracy</th>\n",
       "      <th>Test_Accuracy</th>\n",
       "    </tr>\n",
       "  </thead>\n",
       "  <tbody>\n",
       "    <tr>\n",
       "      <th>0</th>\n",
       "      <td>KNeighborsClassifier</td>\n",
       "      <td>94.512195</td>\n",
       "      <td>90.243902</td>\n",
       "    </tr>\n",
       "  </tbody>\n",
       "</table>\n",
       "</div>"
      ],
      "text/plain": [
       "              Algorithm  Train_Accuracy  Test_Accuracy\n",
       "0  KNeighborsClassifier       94.512195      90.243902"
      ]
     },
     "execution_count": 49,
     "metadata": {},
     "output_type": "execute_result"
    }
   ],
   "source": [
    "tempResults = pd.DataFrame({'Algorithm': ['KNeighborsClassifier'], 'Train_Accuracy': [\n",
    "                           knn_train_acc], 'Test_Accuracy': [knn_acc]})\n",
    "print(tempResults)\n",
    "\n",
    "results = pd.DataFrame()\n",
    "print(type(results))\n",
    "\n",
    "results = pd.concat([results, tempResults])\n",
    "\n",
    "results = results[['Algorithm', 'Train_Accuracy', 'Test_Accuracy']]\n",
    "results\n"
   ]
  },
  {
   "attachments": {},
   "cell_type": "markdown",
   "metadata": {},
   "source": [
    "AUC curve for KNN"
   ]
  },
  {
   "cell_type": "code",
   "execution_count": 52,
   "metadata": {},
   "outputs": [
    {
     "data": {
      "image/png": "[encoded data removed]",
      "text/plain": [
       "<Figure size 1200x800 with 1 Axes>"
      ]
     },
     "metadata": {},
     "output_type": "display_data"
    }
   ],
   "source": [
    "from sklearn.neighbors import KNeighborsClassifier\n",
    "knn = KNeighborsClassifier(n_neighbors=5)\n",
    "knn.fit(x_train_scaled, y_train)\n",
    "\n",
    "y_pred_knn = knn.predict(x_test_scaled)\n",
    "\n",
    "auc = metrics.roc_auc_score(y_test, y_pred_knn)\n",
    "fpr, tpr, _ = metrics.roc_curve(y_test,  y_pred_knn)\n",
    "\n",
    "plt.figure(figsize=(12, 8))\n",
    "plt.plot(fpr, tpr, label=\"AUC=\"+str(auc))\n",
    "plt.ylabel('True Positive Rate')\n",
    "plt.xlabel('False Positive Rate')\n",
    "plt.legend(loc=4)\n",
    "plt.show()\n"
   ]
  }
 ],
 "metadata": {
  "kernelspec": {
   "display_name": "Python 3",
   "language": "python",
   "name": "python3"
  },
  "language_info": {
   "codemirror_mode": {
    "name": "ipython",
    "version": 3
   },
   "file_extension": ".py",
   "mimetype": "text/x-python",
   "name": "python",
   "nbconvert_exporter": "python",
   "pygments_lexer": "ipython3",
   "version": "3.11.1"
  },
  "orig_nbformat": 4,
  "vscode": {
   "interpreter": {
    "hash": "c261aea317cc0286b3b3261fbba9abdec21eaa57589985bb7a274bf54d6cc0a7"
   }
  }
 },
 "nbformat": 4,
 "nbformat_minor": 2
}
